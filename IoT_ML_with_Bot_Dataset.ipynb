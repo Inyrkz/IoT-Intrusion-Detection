{
  "nbformat": 4,
  "nbformat_minor": 0,
  "metadata": {
    "colab": {
      "name": "IoT_ML_with_Bot_Dataset.ipynb",
      "provenance": [],
      "collapsed_sections": [
        "7rv4WPs_ykfy",
        "ZtoUYKw6bdx7",
        "xhRk-QQpl5E7",
        "BIHPYxSGS4fI",
        "miBrWQz4pi-q",
        "vVOY90PsADf6",
        "hXeWC7ZRAqzo",
        "3l2gTVzN6NQM",
        "IDdyg9rG1Pmd",
        "_hjEAktDav8L"
      ],
      "include_colab_link": true
    },
    "kernelspec": {
      "display_name": "Python 3",
      "name": "python3"
    },
    "language_info": {
      "name": "python"
    }
  },
  "cells": [
    {
      "cell_type": "markdown",
      "metadata": {
        "id": "view-in-github",
        "colab_type": "text"
      },
      "source": [
        "<a href=\"https://colab.research.google.com/github/Inyrkz/IoT-Intrusion-Detection/blob/main/IoT_ML_with_Bot_Dataset.ipynb\" target=\"_parent\"><img src=\"https://colab.research.google.com/assets/colab-badge.svg\" alt=\"Open In Colab\"/></a>"
      ]
    },
    {
      "cell_type": "markdown",
      "metadata": {
        "id": "v_JYAzabKZzM"
      },
      "source": [
        "### Downloading BoT_IoT Datasets"
      ]
    },
    {
      "cell_type": "code",
      "metadata": {
        "colab": {
          "background_save": true
        },
        "id": "U7z7t_Hwx9bc"
      },
      "source": [
        "# Download Dataset\n",
        "import requests\n",
        "\n",
        "def download_dataset(url, file_name):\n",
        "  '''function to download dataset from url\n",
        "  args\n",
        "  url: str, download link\n",
        "  file_name: str, name of the file\n",
        "  '''\n",
        "  r = requests.get(url, allow_redirects=True)\n",
        "  open(file_name, 'wb').write(r.content)\n",
        "\n",
        "    \n",
        "download_dataset('http://205.174.165.80/CICDataset/DoHBrw-2020/Dataset/Total-CSVs.zip', 'Total_csv.zip')\n",
        "# download_dataset('https://cloudstor.aarnet.edu.au/plus/s/umT99TnxvbpkkoE/download?path=%2FCSV%2FTraning%20and%20Testing%20Tets%20(5%25%20of%20the%20entier%20dataset)%2FAll%20features&files=UNSW_2018_IoT_Botnet_Full5pc_1.csv&downloadStartSecret=8xn48h3djjx', 'UNSW_2018_IoT_Botnet_Full5pc_1.csv')\n",
        "# download_dataset('https://cloudstor.aarnet.edu.au/plus/s/umT99TnxvbpkkoE/download?path=%2FCSV%2FTraning%20and%20Testing%20Tets%20(5%25%20of%20the%20entier%20dataset)%2FAll%20features&files=UNSW_2018_IoT_Botnet_Full5pc_2.csv&downloadStartSecret=sm8zsfza9k', 'UNSW_2018_IoT_Botnet_Full5pc_2.csv')\n",
        "# download_dataset('https://cloudstor.aarnet.edu.au/plus/s/umT99TnxvbpkkoE/download?path=%2FCSV%2FTraning%20and%20Testing%20Tets%20(5%25%20of%20the%20entier%20dataset)%2FAll%20features&files=UNSW_2018_IoT_Botnet_Full5pc_3.csv&downloadStartSecret=kwepzb3u8qs', 'UNSW_2018_IoT_Botnet_Full5pc_3.csv')\n",
        "# download_dataset('https://cloudstor.aarnet.edu.au/plus/s/umT99TnxvbpkkoE/download?path=%2FCSV%2FTraning%20and%20Testing%20Tets%20(5%25%20of%20the%20entier%20dataset)%2FAll%20features&files=UNSW_2018_IoT_Botnet_Full5pc_4.csv&downloadStartSecret=rk1z8jsq7cj', 'UNSW_2018_IoT_Botnet_Full5pc_4.csv')\n",
        "# download_dataset('https://cloudstor.aarnet.edu.au/plus/s/umT99TnxvbpkkoE/download?path=%2FCSV%2FTraning%20and%20Testing%20Tets%20(5%25%20of%20the%20entier%20dataset)%2F10-best%20features&files=UNSW_2018_IoT_Botnet_Final_10_Best.csv&downloadStartSecret=edamjd8sjy9', 'UNSW_2018_IoT_Botnet_Full5pc_best10.csv')"
      ],
      "execution_count": null,
      "outputs": []
    },
    {
      "cell_type": "markdown",
      "metadata": {
        "id": "z4OGVirLKi7m"
      },
      "source": [
        "### Load Datasets"
      ]
    },
    {
      "cell_type": "code",
      "metadata": {
        "id": "ab9-E8kpOy4-"
      },
      "source": [
        "# best_features_dataset = pd.read_csv('/content/UNSW_2018_IoT_Botnet_Full5pc_best10.csv', delimiter=';')\n",
        "# best_features_dataset\n",
        "# del best_features_dataset"
      ],
      "execution_count": null,
      "outputs": []
    },
    {
      "cell_type": "code",
      "metadata": {
        "colab": {
          "base_uri": "https://localhost:8080/",
          "height": 482
        },
        "id": "Eiej5_b6sDb6",
        "outputId": "da69d991-bb7b-47a8-ba5c-685eabd1d805"
      },
      "source": [
        "# import libraries\n",
        "import numpy as np\n",
        "import pandas as pd\n",
        "import matplotlib.pyplot as plt\n",
        "\n",
        "dataset1 = pd.read_csv(\"/content/drive/MyDrive/Mydataset/BoT_IoT/UNSW_2018_IoT_Botnet_Full5pc_1.csv\")\n",
        "dataset2 = pd.read_csv(\"/content/drive/MyDrive/Mydataset/BoT_IoT/UNSW_2018_IoT_Botnet_Full5pc_2.csv\")\n",
        "dataset3 = pd.read_csv(\"/content/drive/MyDrive/Mydataset/BoT_IoT/UNSW_2018_IoT_Botnet_Full5pc_3.csv\")\n",
        "dataset4 = pd.read_csv(\"/content/drive/MyDrive/Mydataset/BoT_IoT/UNSW_2018_IoT_Botnet_Full5pc_4.csv\")\n",
        "dataset1"
      ],
      "execution_count": null,
      "outputs": [
        {
          "output_type": "stream",
          "name": "stderr",
          "text": [
            "/usr/local/lib/python3.7/dist-packages/IPython/core/interactiveshell.py:2718: DtypeWarning: Columns (7,9) have mixed types.Specify dtype option on import or set low_memory=False.\n",
            "  interactivity=interactivity, compiler=compiler, result=result)\n"
          ]
        },
        {
          "output_type": "execute_result",
          "data": {
            "text/html": [
              "<div>\n",
              "<style scoped>\n",
              "    .dataframe tbody tr th:only-of-type {\n",
              "        vertical-align: middle;\n",
              "    }\n",
              "\n",
              "    .dataframe tbody tr th {\n",
              "        vertical-align: top;\n",
              "    }\n",
              "\n",
              "    .dataframe thead th {\n",
              "        text-align: right;\n",
              "    }\n",
              "</style>\n",
              "<table border=\"1\" class=\"dataframe\">\n",
              "  <thead>\n",
              "    <tr style=\"text-align: right;\">\n",
              "      <th></th>\n",
              "      <th>pkSeqID</th>\n",
              "      <th>stime</th>\n",
              "      <th>flgs</th>\n",
              "      <th>flgs_number</th>\n",
              "      <th>proto</th>\n",
              "      <th>proto_number</th>\n",
              "      <th>saddr</th>\n",
              "      <th>sport</th>\n",
              "      <th>daddr</th>\n",
              "      <th>dport</th>\n",
              "      <th>pkts</th>\n",
              "      <th>bytes</th>\n",
              "      <th>state</th>\n",
              "      <th>state_number</th>\n",
              "      <th>ltime</th>\n",
              "      <th>seq</th>\n",
              "      <th>dur</th>\n",
              "      <th>mean</th>\n",
              "      <th>stddev</th>\n",
              "      <th>sum</th>\n",
              "      <th>min</th>\n",
              "      <th>max</th>\n",
              "      <th>spkts</th>\n",
              "      <th>dpkts</th>\n",
              "      <th>sbytes</th>\n",
              "      <th>dbytes</th>\n",
              "      <th>rate</th>\n",
              "      <th>srate</th>\n",
              "      <th>drate</th>\n",
              "      <th>TnBPSrcIP</th>\n",
              "      <th>TnBPDstIP</th>\n",
              "      <th>TnP_PSrcIP</th>\n",
              "      <th>TnP_PDstIP</th>\n",
              "      <th>TnP_PerProto</th>\n",
              "      <th>TnP_Per_Dport</th>\n",
              "      <th>AR_P_Proto_P_SrcIP</th>\n",
              "      <th>AR_P_Proto_P_DstIP</th>\n",
              "      <th>N_IN_Conn_P_DstIP</th>\n",
              "      <th>N_IN_Conn_P_SrcIP</th>\n",
              "      <th>AR_P_Proto_P_Sport</th>\n",
              "      <th>AR_P_Proto_P_Dport</th>\n",
              "      <th>Pkts_P_State_P_Protocol_P_DestIP</th>\n",
              "      <th>Pkts_P_State_P_Protocol_P_SrcIP</th>\n",
              "      <th>attack</th>\n",
              "      <th>category</th>\n",
              "      <th>subcategory</th>\n",
              "    </tr>\n",
              "  </thead>\n",
              "  <tbody>\n",
              "    <tr>\n",
              "      <th>0</th>\n",
              "      <td>1</td>\n",
              "      <td>1.528089e+09</td>\n",
              "      <td>e</td>\n",
              "      <td>1</td>\n",
              "      <td>tcp</td>\n",
              "      <td>1</td>\n",
              "      <td>192.168.100.147</td>\n",
              "      <td>49960</td>\n",
              "      <td>192.168.100.7</td>\n",
              "      <td>80</td>\n",
              "      <td>8</td>\n",
              "      <td>1980</td>\n",
              "      <td>RST</td>\n",
              "      <td>1</td>\n",
              "      <td>1.528089e+09</td>\n",
              "      <td>9</td>\n",
              "      <td>7.056393</td>\n",
              "      <td>0.068909</td>\n",
              "      <td>0.068909</td>\n",
              "      <td>0.137818</td>\n",
              "      <td>0.000000</td>\n",
              "      <td>0.137818</td>\n",
              "      <td>5</td>\n",
              "      <td>3</td>\n",
              "      <td>650</td>\n",
              "      <td>1330</td>\n",
              "      <td>0.992008</td>\n",
              "      <td>0.566862</td>\n",
              "      <td>14.511893</td>\n",
              "      <td>157426</td>\n",
              "      <td>201841</td>\n",
              "      <td>602</td>\n",
              "      <td>770</td>\n",
              "      <td>772</td>\n",
              "      <td>772</td>\n",
              "      <td>1.142970</td>\n",
              "      <td>1.127040</td>\n",
              "      <td>96</td>\n",
              "      <td>75</td>\n",
              "      <td>1.133720</td>\n",
              "      <td>1.129970</td>\n",
              "      <td>770</td>\n",
              "      <td>602</td>\n",
              "      <td>1</td>\n",
              "      <td>DoS</td>\n",
              "      <td>HTTP</td>\n",
              "    </tr>\n",
              "    <tr>\n",
              "      <th>1</th>\n",
              "      <td>2</td>\n",
              "      <td>1.528089e+09</td>\n",
              "      <td>e</td>\n",
              "      <td>1</td>\n",
              "      <td>arp</td>\n",
              "      <td>2</td>\n",
              "      <td>192.168.100.7</td>\n",
              "      <td>-1</td>\n",
              "      <td>192.168.100.147</td>\n",
              "      <td>-1</td>\n",
              "      <td>2</td>\n",
              "      <td>120</td>\n",
              "      <td>CON</td>\n",
              "      <td>2</td>\n",
              "      <td>1.528089e+09</td>\n",
              "      <td>10</td>\n",
              "      <td>0.000131</td>\n",
              "      <td>0.000131</td>\n",
              "      <td>0.000000</td>\n",
              "      <td>0.000131</td>\n",
              "      <td>0.000131</td>\n",
              "      <td>0.000131</td>\n",
              "      <td>1</td>\n",
              "      <td>1</td>\n",
              "      <td>60</td>\n",
              "      <td>60</td>\n",
              "      <td>7633.588379</td>\n",
              "      <td>0.000000</td>\n",
              "      <td>0.000000</td>\n",
              "      <td>360</td>\n",
              "      <td>120</td>\n",
              "      <td>6</td>\n",
              "      <td>2</td>\n",
              "      <td>8</td>\n",
              "      <td>8</td>\n",
              "      <td>0.003857</td>\n",
              "      <td>15267.200000</td>\n",
              "      <td>1</td>\n",
              "      <td>2</td>\n",
              "      <td>0.005142</td>\n",
              "      <td>0.005142</td>\n",
              "      <td>2</td>\n",
              "      <td>6</td>\n",
              "      <td>1</td>\n",
              "      <td>DoS</td>\n",
              "      <td>HTTP</td>\n",
              "    </tr>\n",
              "    <tr>\n",
              "      <th>2</th>\n",
              "      <td>3</td>\n",
              "      <td>1.528089e+09</td>\n",
              "      <td>e</td>\n",
              "      <td>1</td>\n",
              "      <td>tcp</td>\n",
              "      <td>1</td>\n",
              "      <td>192.168.100.147</td>\n",
              "      <td>49962</td>\n",
              "      <td>192.168.100.7</td>\n",
              "      <td>80</td>\n",
              "      <td>8</td>\n",
              "      <td>2126</td>\n",
              "      <td>RST</td>\n",
              "      <td>1</td>\n",
              "      <td>1.528089e+09</td>\n",
              "      <td>11</td>\n",
              "      <td>7.047852</td>\n",
              "      <td>0.064494</td>\n",
              "      <td>0.064494</td>\n",
              "      <td>0.128988</td>\n",
              "      <td>0.000000</td>\n",
              "      <td>0.128988</td>\n",
              "      <td>5</td>\n",
              "      <td>3</td>\n",
              "      <td>796</td>\n",
              "      <td>1330</td>\n",
              "      <td>0.993210</td>\n",
              "      <td>0.567549</td>\n",
              "      <td>15.505319</td>\n",
              "      <td>157426</td>\n",
              "      <td>201841</td>\n",
              "      <td>602</td>\n",
              "      <td>770</td>\n",
              "      <td>772</td>\n",
              "      <td>772</td>\n",
              "      <td>1.142970</td>\n",
              "      <td>1.127040</td>\n",
              "      <td>96</td>\n",
              "      <td>75</td>\n",
              "      <td>1.135100</td>\n",
              "      <td>1.129970</td>\n",
              "      <td>770</td>\n",
              "      <td>602</td>\n",
              "      <td>1</td>\n",
              "      <td>DoS</td>\n",
              "      <td>HTTP</td>\n",
              "    </tr>\n",
              "    <tr>\n",
              "      <th>3</th>\n",
              "      <td>4</td>\n",
              "      <td>1.528089e+09</td>\n",
              "      <td>e</td>\n",
              "      <td>1</td>\n",
              "      <td>tcp</td>\n",
              "      <td>1</td>\n",
              "      <td>192.168.100.147</td>\n",
              "      <td>49964</td>\n",
              "      <td>192.168.100.7</td>\n",
              "      <td>80</td>\n",
              "      <td>8</td>\n",
              "      <td>2024</td>\n",
              "      <td>RST</td>\n",
              "      <td>1</td>\n",
              "      <td>1.528089e+09</td>\n",
              "      <td>12</td>\n",
              "      <td>7.047592</td>\n",
              "      <td>0.064189</td>\n",
              "      <td>0.064189</td>\n",
              "      <td>0.128378</td>\n",
              "      <td>0.000000</td>\n",
              "      <td>0.128378</td>\n",
              "      <td>5</td>\n",
              "      <td>3</td>\n",
              "      <td>694</td>\n",
              "      <td>1330</td>\n",
              "      <td>0.993247</td>\n",
              "      <td>0.567570</td>\n",
              "      <td>15.578993</td>\n",
              "      <td>157426</td>\n",
              "      <td>201841</td>\n",
              "      <td>602</td>\n",
              "      <td>770</td>\n",
              "      <td>772</td>\n",
              "      <td>772</td>\n",
              "      <td>1.142970</td>\n",
              "      <td>1.127040</td>\n",
              "      <td>96</td>\n",
              "      <td>75</td>\n",
              "      <td>1.135140</td>\n",
              "      <td>1.129970</td>\n",
              "      <td>770</td>\n",
              "      <td>602</td>\n",
              "      <td>1</td>\n",
              "      <td>DoS</td>\n",
              "      <td>HTTP</td>\n",
              "    </tr>\n",
              "    <tr>\n",
              "      <th>4</th>\n",
              "      <td>5</td>\n",
              "      <td>1.528089e+09</td>\n",
              "      <td>e</td>\n",
              "      <td>1</td>\n",
              "      <td>tcp</td>\n",
              "      <td>1</td>\n",
              "      <td>192.168.100.147</td>\n",
              "      <td>49966</td>\n",
              "      <td>192.168.100.7</td>\n",
              "      <td>80</td>\n",
              "      <td>8</td>\n",
              "      <td>2319</td>\n",
              "      <td>RST</td>\n",
              "      <td>1</td>\n",
              "      <td>1.528089e+09</td>\n",
              "      <td>13</td>\n",
              "      <td>7.046841</td>\n",
              "      <td>0.063887</td>\n",
              "      <td>0.063887</td>\n",
              "      <td>0.127774</td>\n",
              "      <td>0.000000</td>\n",
              "      <td>0.127774</td>\n",
              "      <td>5</td>\n",
              "      <td>3</td>\n",
              "      <td>989</td>\n",
              "      <td>1330</td>\n",
              "      <td>0.993353</td>\n",
              "      <td>0.567630</td>\n",
              "      <td>15.652637</td>\n",
              "      <td>157426</td>\n",
              "      <td>201841</td>\n",
              "      <td>602</td>\n",
              "      <td>770</td>\n",
              "      <td>772</td>\n",
              "      <td>772</td>\n",
              "      <td>1.142970</td>\n",
              "      <td>1.127040</td>\n",
              "      <td>96</td>\n",
              "      <td>75</td>\n",
              "      <td>1.135260</td>\n",
              "      <td>1.129970</td>\n",
              "      <td>770</td>\n",
              "      <td>602</td>\n",
              "      <td>1</td>\n",
              "      <td>DoS</td>\n",
              "      <td>HTTP</td>\n",
              "    </tr>\n",
              "    <tr>\n",
              "      <th>...</th>\n",
              "      <td>...</td>\n",
              "      <td>...</td>\n",
              "      <td>...</td>\n",
              "      <td>...</td>\n",
              "      <td>...</td>\n",
              "      <td>...</td>\n",
              "      <td>...</td>\n",
              "      <td>...</td>\n",
              "      <td>...</td>\n",
              "      <td>...</td>\n",
              "      <td>...</td>\n",
              "      <td>...</td>\n",
              "      <td>...</td>\n",
              "      <td>...</td>\n",
              "      <td>...</td>\n",
              "      <td>...</td>\n",
              "      <td>...</td>\n",
              "      <td>...</td>\n",
              "      <td>...</td>\n",
              "      <td>...</td>\n",
              "      <td>...</td>\n",
              "      <td>...</td>\n",
              "      <td>...</td>\n",
              "      <td>...</td>\n",
              "      <td>...</td>\n",
              "      <td>...</td>\n",
              "      <td>...</td>\n",
              "      <td>...</td>\n",
              "      <td>...</td>\n",
              "      <td>...</td>\n",
              "      <td>...</td>\n",
              "      <td>...</td>\n",
              "      <td>...</td>\n",
              "      <td>...</td>\n",
              "      <td>...</td>\n",
              "      <td>...</td>\n",
              "      <td>...</td>\n",
              "      <td>...</td>\n",
              "      <td>...</td>\n",
              "      <td>...</td>\n",
              "      <td>...</td>\n",
              "      <td>...</td>\n",
              "      <td>...</td>\n",
              "      <td>...</td>\n",
              "      <td>...</td>\n",
              "      <td>...</td>\n",
              "    </tr>\n",
              "    <tr>\n",
              "      <th>999995</th>\n",
              "      <td>999996</td>\n",
              "      <td>1.528085e+09</td>\n",
              "      <td>e</td>\n",
              "      <td>1</td>\n",
              "      <td>udp</td>\n",
              "      <td>3</td>\n",
              "      <td>192.168.100.148</td>\n",
              "      <td>37148</td>\n",
              "      <td>192.168.100.6</td>\n",
              "      <td>80</td>\n",
              "      <td>8</td>\n",
              "      <td>480</td>\n",
              "      <td>INT</td>\n",
              "      <td>4</td>\n",
              "      <td>1.528085e+09</td>\n",
              "      <td>120562</td>\n",
              "      <td>25.001644</td>\n",
              "      <td>3.565629</td>\n",
              "      <td>0.023111</td>\n",
              "      <td>14.262514</td>\n",
              "      <td>3.539354</td>\n",
              "      <td>3.601985</td>\n",
              "      <td>8</td>\n",
              "      <td>0</td>\n",
              "      <td>480</td>\n",
              "      <td>0</td>\n",
              "      <td>0.279982</td>\n",
              "      <td>0.279982</td>\n",
              "      <td>0.000000</td>\n",
              "      <td>25920</td>\n",
              "      <td>25920</td>\n",
              "      <td>432</td>\n",
              "      <td>432</td>\n",
              "      <td>938</td>\n",
              "      <td>938</td>\n",
              "      <td>0.319979</td>\n",
              "      <td>0.319979</td>\n",
              "      <td>54</td>\n",
              "      <td>54</td>\n",
              "      <td>0.319979</td>\n",
              "      <td>0.360424</td>\n",
              "      <td>432</td>\n",
              "      <td>432</td>\n",
              "      <td>1</td>\n",
              "      <td>DoS</td>\n",
              "      <td>UDP</td>\n",
              "    </tr>\n",
              "    <tr>\n",
              "      <th>999996</th>\n",
              "      <td>999997</td>\n",
              "      <td>1.528085e+09</td>\n",
              "      <td>e</td>\n",
              "      <td>1</td>\n",
              "      <td>udp</td>\n",
              "      <td>3</td>\n",
              "      <td>192.168.100.148</td>\n",
              "      <td>37149</td>\n",
              "      <td>192.168.100.6</td>\n",
              "      <td>80</td>\n",
              "      <td>8</td>\n",
              "      <td>480</td>\n",
              "      <td>INT</td>\n",
              "      <td>4</td>\n",
              "      <td>1.528085e+09</td>\n",
              "      <td>120563</td>\n",
              "      <td>25.001644</td>\n",
              "      <td>3.565628</td>\n",
              "      <td>0.023102</td>\n",
              "      <td>14.262512</td>\n",
              "      <td>3.539353</td>\n",
              "      <td>3.601985</td>\n",
              "      <td>8</td>\n",
              "      <td>0</td>\n",
              "      <td>480</td>\n",
              "      <td>0</td>\n",
              "      <td>0.279982</td>\n",
              "      <td>0.279982</td>\n",
              "      <td>0.000000</td>\n",
              "      <td>25920</td>\n",
              "      <td>25920</td>\n",
              "      <td>432</td>\n",
              "      <td>432</td>\n",
              "      <td>938</td>\n",
              "      <td>938</td>\n",
              "      <td>0.319979</td>\n",
              "      <td>0.319979</td>\n",
              "      <td>54</td>\n",
              "      <td>54</td>\n",
              "      <td>0.319979</td>\n",
              "      <td>0.360424</td>\n",
              "      <td>432</td>\n",
              "      <td>432</td>\n",
              "      <td>1</td>\n",
              "      <td>DoS</td>\n",
              "      <td>UDP</td>\n",
              "    </tr>\n",
              "    <tr>\n",
              "      <th>999997</th>\n",
              "      <td>999998</td>\n",
              "      <td>1.528085e+09</td>\n",
              "      <td>e</td>\n",
              "      <td>1</td>\n",
              "      <td>udp</td>\n",
              "      <td>3</td>\n",
              "      <td>192.168.100.148</td>\n",
              "      <td>37150</td>\n",
              "      <td>192.168.100.6</td>\n",
              "      <td>80</td>\n",
              "      <td>8</td>\n",
              "      <td>480</td>\n",
              "      <td>INT</td>\n",
              "      <td>4</td>\n",
              "      <td>1.528085e+09</td>\n",
              "      <td>120564</td>\n",
              "      <td>25.001644</td>\n",
              "      <td>3.565628</td>\n",
              "      <td>0.023110</td>\n",
              "      <td>14.262512</td>\n",
              "      <td>3.539354</td>\n",
              "      <td>3.601984</td>\n",
              "      <td>8</td>\n",
              "      <td>0</td>\n",
              "      <td>480</td>\n",
              "      <td>0</td>\n",
              "      <td>0.279982</td>\n",
              "      <td>0.279982</td>\n",
              "      <td>0.000000</td>\n",
              "      <td>25920</td>\n",
              "      <td>25920</td>\n",
              "      <td>432</td>\n",
              "      <td>432</td>\n",
              "      <td>938</td>\n",
              "      <td>938</td>\n",
              "      <td>0.319979</td>\n",
              "      <td>0.319979</td>\n",
              "      <td>54</td>\n",
              "      <td>54</td>\n",
              "      <td>0.319979</td>\n",
              "      <td>0.360424</td>\n",
              "      <td>432</td>\n",
              "      <td>432</td>\n",
              "      <td>1</td>\n",
              "      <td>DoS</td>\n",
              "      <td>UDP</td>\n",
              "    </tr>\n",
              "    <tr>\n",
              "      <th>999998</th>\n",
              "      <td>999999</td>\n",
              "      <td>1.528085e+09</td>\n",
              "      <td>e</td>\n",
              "      <td>1</td>\n",
              "      <td>udp</td>\n",
              "      <td>3</td>\n",
              "      <td>192.168.100.148</td>\n",
              "      <td>37151</td>\n",
              "      <td>192.168.100.6</td>\n",
              "      <td>80</td>\n",
              "      <td>8</td>\n",
              "      <td>480</td>\n",
              "      <td>INT</td>\n",
              "      <td>4</td>\n",
              "      <td>1.528085e+09</td>\n",
              "      <td>120565</td>\n",
              "      <td>25.001644</td>\n",
              "      <td>3.565624</td>\n",
              "      <td>0.023105</td>\n",
              "      <td>14.262497</td>\n",
              "      <td>3.539353</td>\n",
              "      <td>3.601970</td>\n",
              "      <td>8</td>\n",
              "      <td>0</td>\n",
              "      <td>480</td>\n",
              "      <td>0</td>\n",
              "      <td>0.279982</td>\n",
              "      <td>0.279982</td>\n",
              "      <td>0.000000</td>\n",
              "      <td>25920</td>\n",
              "      <td>25920</td>\n",
              "      <td>432</td>\n",
              "      <td>432</td>\n",
              "      <td>938</td>\n",
              "      <td>938</td>\n",
              "      <td>0.319979</td>\n",
              "      <td>0.319979</td>\n",
              "      <td>54</td>\n",
              "      <td>54</td>\n",
              "      <td>0.319979</td>\n",
              "      <td>0.360424</td>\n",
              "      <td>432</td>\n",
              "      <td>432</td>\n",
              "      <td>1</td>\n",
              "      <td>DoS</td>\n",
              "      <td>UDP</td>\n",
              "    </tr>\n",
              "    <tr>\n",
              "      <th>999999</th>\n",
              "      <td>1000000</td>\n",
              "      <td>1.528085e+09</td>\n",
              "      <td>e</td>\n",
              "      <td>1</td>\n",
              "      <td>udp</td>\n",
              "      <td>3</td>\n",
              "      <td>192.168.100.148</td>\n",
              "      <td>37152</td>\n",
              "      <td>192.168.100.6</td>\n",
              "      <td>80</td>\n",
              "      <td>8</td>\n",
              "      <td>480</td>\n",
              "      <td>INT</td>\n",
              "      <td>4</td>\n",
              "      <td>1.528085e+09</td>\n",
              "      <td>120566</td>\n",
              "      <td>25.001644</td>\n",
              "      <td>3.565624</td>\n",
              "      <td>0.023068</td>\n",
              "      <td>14.262498</td>\n",
              "      <td>3.539354</td>\n",
              "      <td>3.601970</td>\n",
              "      <td>8</td>\n",
              "      <td>0</td>\n",
              "      <td>480</td>\n",
              "      <td>0</td>\n",
              "      <td>0.279982</td>\n",
              "      <td>0.279982</td>\n",
              "      <td>0.000000</td>\n",
              "      <td>25920</td>\n",
              "      <td>25920</td>\n",
              "      <td>432</td>\n",
              "      <td>432</td>\n",
              "      <td>938</td>\n",
              "      <td>938</td>\n",
              "      <td>0.319979</td>\n",
              "      <td>0.319979</td>\n",
              "      <td>54</td>\n",
              "      <td>54</td>\n",
              "      <td>0.319979</td>\n",
              "      <td>0.360424</td>\n",
              "      <td>432</td>\n",
              "      <td>432</td>\n",
              "      <td>1</td>\n",
              "      <td>DoS</td>\n",
              "      <td>UDP</td>\n",
              "    </tr>\n",
              "  </tbody>\n",
              "</table>\n",
              "<p>1000000 rows × 46 columns</p>\n",
              "</div>"
            ],
            "text/plain": [
              "        pkSeqID         stime flgs  ...  attack category  subcategory\n",
              "0             1  1.528089e+09    e  ...       1      DoS         HTTP\n",
              "1             2  1.528089e+09    e  ...       1      DoS         HTTP\n",
              "2             3  1.528089e+09    e  ...       1      DoS         HTTP\n",
              "3             4  1.528089e+09    e  ...       1      DoS         HTTP\n",
              "4             5  1.528089e+09    e  ...       1      DoS         HTTP\n",
              "...         ...           ...  ...  ...     ...      ...          ...\n",
              "999995   999996  1.528085e+09    e  ...       1      DoS          UDP\n",
              "999996   999997  1.528085e+09    e  ...       1      DoS          UDP\n",
              "999997   999998  1.528085e+09    e  ...       1      DoS          UDP\n",
              "999998   999999  1.528085e+09    e  ...       1      DoS          UDP\n",
              "999999  1000000  1.528085e+09    e  ...       1      DoS          UDP\n",
              "\n",
              "[1000000 rows x 46 columns]"
            ]
          },
          "metadata": {},
          "execution_count": 1
        }
      ]
    },
    {
      "cell_type": "markdown",
      "metadata": {
        "id": "Xu0vSAxeVtao"
      },
      "source": [
        "### Feature Extraction"
      ]
    },
    {
      "cell_type": "markdown",
      "metadata": {
        "id": "S3NjUW-NNk3B"
      },
      "source": [
        "### Merge all 4 datasets into one Pandas DataFrame"
      ]
    },
    {
      "cell_type": "code",
      "metadata": {
        "colab": {
          "base_uri": "https://localhost:8080/",
          "height": 444
        },
        "id": "Cfw3iJOFNsoY",
        "outputId": "ceb4c658-a231-4771-fa0c-1fbfe1ecae85"
      },
      "source": [
        "full_dataset = pd.concat([dataset1, dataset2, dataset3, dataset4], axis=0)\n",
        "full_dataset"
      ],
      "execution_count": null,
      "outputs": [
        {
          "output_type": "execute_result",
          "data": {
            "text/html": [
              "<div>\n",
              "<style scoped>\n",
              "    .dataframe tbody tr th:only-of-type {\n",
              "        vertical-align: middle;\n",
              "    }\n",
              "\n",
              "    .dataframe tbody tr th {\n",
              "        vertical-align: top;\n",
              "    }\n",
              "\n",
              "    .dataframe thead th {\n",
              "        text-align: right;\n",
              "    }\n",
              "</style>\n",
              "<table border=\"1\" class=\"dataframe\">\n",
              "  <thead>\n",
              "    <tr style=\"text-align: right;\">\n",
              "      <th></th>\n",
              "      <th>pkSeqID</th>\n",
              "      <th>stime</th>\n",
              "      <th>flgs</th>\n",
              "      <th>flgs_number</th>\n",
              "      <th>proto</th>\n",
              "      <th>proto_number</th>\n",
              "      <th>saddr</th>\n",
              "      <th>sport</th>\n",
              "      <th>daddr</th>\n",
              "      <th>dport</th>\n",
              "      <th>pkts</th>\n",
              "      <th>bytes</th>\n",
              "      <th>state</th>\n",
              "      <th>state_number</th>\n",
              "      <th>ltime</th>\n",
              "      <th>seq</th>\n",
              "      <th>dur</th>\n",
              "      <th>mean</th>\n",
              "      <th>stddev</th>\n",
              "      <th>sum</th>\n",
              "      <th>min</th>\n",
              "      <th>max</th>\n",
              "      <th>spkts</th>\n",
              "      <th>dpkts</th>\n",
              "      <th>sbytes</th>\n",
              "      <th>dbytes</th>\n",
              "      <th>rate</th>\n",
              "      <th>srate</th>\n",
              "      <th>drate</th>\n",
              "      <th>TnBPSrcIP</th>\n",
              "      <th>TnBPDstIP</th>\n",
              "      <th>TnP_PSrcIP</th>\n",
              "      <th>TnP_PDstIP</th>\n",
              "      <th>TnP_PerProto</th>\n",
              "      <th>TnP_Per_Dport</th>\n",
              "      <th>AR_P_Proto_P_SrcIP</th>\n",
              "      <th>AR_P_Proto_P_DstIP</th>\n",
              "      <th>N_IN_Conn_P_DstIP</th>\n",
              "      <th>N_IN_Conn_P_SrcIP</th>\n",
              "      <th>AR_P_Proto_P_Sport</th>\n",
              "      <th>AR_P_Proto_P_Dport</th>\n",
              "      <th>Pkts_P_State_P_Protocol_P_DestIP</th>\n",
              "      <th>Pkts_P_State_P_Protocol_P_SrcIP</th>\n",
              "      <th>attack</th>\n",
              "      <th>category</th>\n",
              "      <th>subcategory</th>\n",
              "    </tr>\n",
              "  </thead>\n",
              "  <tbody>\n",
              "    <tr>\n",
              "      <th>0</th>\n",
              "      <td>1</td>\n",
              "      <td>1.528089e+09</td>\n",
              "      <td>e</td>\n",
              "      <td>1</td>\n",
              "      <td>tcp</td>\n",
              "      <td>1</td>\n",
              "      <td>192.168.100.147</td>\n",
              "      <td>49960</td>\n",
              "      <td>192.168.100.7</td>\n",
              "      <td>80</td>\n",
              "      <td>8</td>\n",
              "      <td>1980</td>\n",
              "      <td>RST</td>\n",
              "      <td>1</td>\n",
              "      <td>1.528089e+09</td>\n",
              "      <td>9</td>\n",
              "      <td>7.056393</td>\n",
              "      <td>0.068909</td>\n",
              "      <td>0.068909</td>\n",
              "      <td>0.137818</td>\n",
              "      <td>0.000000</td>\n",
              "      <td>0.137818</td>\n",
              "      <td>5</td>\n",
              "      <td>3</td>\n",
              "      <td>650</td>\n",
              "      <td>1330</td>\n",
              "      <td>0.992008</td>\n",
              "      <td>0.566862</td>\n",
              "      <td>14.511893</td>\n",
              "      <td>157426</td>\n",
              "      <td>201841</td>\n",
              "      <td>602</td>\n",
              "      <td>770</td>\n",
              "      <td>772</td>\n",
              "      <td>772</td>\n",
              "      <td>1.142970</td>\n",
              "      <td>1.127040</td>\n",
              "      <td>96</td>\n",
              "      <td>75</td>\n",
              "      <td>1.133720</td>\n",
              "      <td>1.129970</td>\n",
              "      <td>770</td>\n",
              "      <td>602</td>\n",
              "      <td>1</td>\n",
              "      <td>DoS</td>\n",
              "      <td>HTTP</td>\n",
              "    </tr>\n",
              "    <tr>\n",
              "      <th>1</th>\n",
              "      <td>2</td>\n",
              "      <td>1.528089e+09</td>\n",
              "      <td>e</td>\n",
              "      <td>1</td>\n",
              "      <td>arp</td>\n",
              "      <td>2</td>\n",
              "      <td>192.168.100.7</td>\n",
              "      <td>-1</td>\n",
              "      <td>192.168.100.147</td>\n",
              "      <td>-1</td>\n",
              "      <td>2</td>\n",
              "      <td>120</td>\n",
              "      <td>CON</td>\n",
              "      <td>2</td>\n",
              "      <td>1.528089e+09</td>\n",
              "      <td>10</td>\n",
              "      <td>0.000131</td>\n",
              "      <td>0.000131</td>\n",
              "      <td>0.000000</td>\n",
              "      <td>0.000131</td>\n",
              "      <td>0.000131</td>\n",
              "      <td>0.000131</td>\n",
              "      <td>1</td>\n",
              "      <td>1</td>\n",
              "      <td>60</td>\n",
              "      <td>60</td>\n",
              "      <td>7633.588379</td>\n",
              "      <td>0.000000</td>\n",
              "      <td>0.000000</td>\n",
              "      <td>360</td>\n",
              "      <td>120</td>\n",
              "      <td>6</td>\n",
              "      <td>2</td>\n",
              "      <td>8</td>\n",
              "      <td>8</td>\n",
              "      <td>0.003857</td>\n",
              "      <td>15267.200000</td>\n",
              "      <td>1</td>\n",
              "      <td>2</td>\n",
              "      <td>0.005142</td>\n",
              "      <td>0.005142</td>\n",
              "      <td>2</td>\n",
              "      <td>6</td>\n",
              "      <td>1</td>\n",
              "      <td>DoS</td>\n",
              "      <td>HTTP</td>\n",
              "    </tr>\n",
              "    <tr>\n",
              "      <th>2</th>\n",
              "      <td>3</td>\n",
              "      <td>1.528089e+09</td>\n",
              "      <td>e</td>\n",
              "      <td>1</td>\n",
              "      <td>tcp</td>\n",
              "      <td>1</td>\n",
              "      <td>192.168.100.147</td>\n",
              "      <td>49962</td>\n",
              "      <td>192.168.100.7</td>\n",
              "      <td>80</td>\n",
              "      <td>8</td>\n",
              "      <td>2126</td>\n",
              "      <td>RST</td>\n",
              "      <td>1</td>\n",
              "      <td>1.528089e+09</td>\n",
              "      <td>11</td>\n",
              "      <td>7.047852</td>\n",
              "      <td>0.064494</td>\n",
              "      <td>0.064494</td>\n",
              "      <td>0.128988</td>\n",
              "      <td>0.000000</td>\n",
              "      <td>0.128988</td>\n",
              "      <td>5</td>\n",
              "      <td>3</td>\n",
              "      <td>796</td>\n",
              "      <td>1330</td>\n",
              "      <td>0.993210</td>\n",
              "      <td>0.567549</td>\n",
              "      <td>15.505319</td>\n",
              "      <td>157426</td>\n",
              "      <td>201841</td>\n",
              "      <td>602</td>\n",
              "      <td>770</td>\n",
              "      <td>772</td>\n",
              "      <td>772</td>\n",
              "      <td>1.142970</td>\n",
              "      <td>1.127040</td>\n",
              "      <td>96</td>\n",
              "      <td>75</td>\n",
              "      <td>1.135100</td>\n",
              "      <td>1.129970</td>\n",
              "      <td>770</td>\n",
              "      <td>602</td>\n",
              "      <td>1</td>\n",
              "      <td>DoS</td>\n",
              "      <td>HTTP</td>\n",
              "    </tr>\n",
              "    <tr>\n",
              "      <th>3</th>\n",
              "      <td>4</td>\n",
              "      <td>1.528089e+09</td>\n",
              "      <td>e</td>\n",
              "      <td>1</td>\n",
              "      <td>tcp</td>\n",
              "      <td>1</td>\n",
              "      <td>192.168.100.147</td>\n",
              "      <td>49964</td>\n",
              "      <td>192.168.100.7</td>\n",
              "      <td>80</td>\n",
              "      <td>8</td>\n",
              "      <td>2024</td>\n",
              "      <td>RST</td>\n",
              "      <td>1</td>\n",
              "      <td>1.528089e+09</td>\n",
              "      <td>12</td>\n",
              "      <td>7.047592</td>\n",
              "      <td>0.064189</td>\n",
              "      <td>0.064189</td>\n",
              "      <td>0.128378</td>\n",
              "      <td>0.000000</td>\n",
              "      <td>0.128378</td>\n",
              "      <td>5</td>\n",
              "      <td>3</td>\n",
              "      <td>694</td>\n",
              "      <td>1330</td>\n",
              "      <td>0.993247</td>\n",
              "      <td>0.567570</td>\n",
              "      <td>15.578993</td>\n",
              "      <td>157426</td>\n",
              "      <td>201841</td>\n",
              "      <td>602</td>\n",
              "      <td>770</td>\n",
              "      <td>772</td>\n",
              "      <td>772</td>\n",
              "      <td>1.142970</td>\n",
              "      <td>1.127040</td>\n",
              "      <td>96</td>\n",
              "      <td>75</td>\n",
              "      <td>1.135140</td>\n",
              "      <td>1.129970</td>\n",
              "      <td>770</td>\n",
              "      <td>602</td>\n",
              "      <td>1</td>\n",
              "      <td>DoS</td>\n",
              "      <td>HTTP</td>\n",
              "    </tr>\n",
              "    <tr>\n",
              "      <th>4</th>\n",
              "      <td>5</td>\n",
              "      <td>1.528089e+09</td>\n",
              "      <td>e</td>\n",
              "      <td>1</td>\n",
              "      <td>tcp</td>\n",
              "      <td>1</td>\n",
              "      <td>192.168.100.147</td>\n",
              "      <td>49966</td>\n",
              "      <td>192.168.100.7</td>\n",
              "      <td>80</td>\n",
              "      <td>8</td>\n",
              "      <td>2319</td>\n",
              "      <td>RST</td>\n",
              "      <td>1</td>\n",
              "      <td>1.528089e+09</td>\n",
              "      <td>13</td>\n",
              "      <td>7.046841</td>\n",
              "      <td>0.063887</td>\n",
              "      <td>0.063887</td>\n",
              "      <td>0.127774</td>\n",
              "      <td>0.000000</td>\n",
              "      <td>0.127774</td>\n",
              "      <td>5</td>\n",
              "      <td>3</td>\n",
              "      <td>989</td>\n",
              "      <td>1330</td>\n",
              "      <td>0.993353</td>\n",
              "      <td>0.567630</td>\n",
              "      <td>15.652637</td>\n",
              "      <td>157426</td>\n",
              "      <td>201841</td>\n",
              "      <td>602</td>\n",
              "      <td>770</td>\n",
              "      <td>772</td>\n",
              "      <td>772</td>\n",
              "      <td>1.142970</td>\n",
              "      <td>1.127040</td>\n",
              "      <td>96</td>\n",
              "      <td>75</td>\n",
              "      <td>1.135260</td>\n",
              "      <td>1.129970</td>\n",
              "      <td>770</td>\n",
              "      <td>602</td>\n",
              "      <td>1</td>\n",
              "      <td>DoS</td>\n",
              "      <td>HTTP</td>\n",
              "    </tr>\n",
              "    <tr>\n",
              "      <th>...</th>\n",
              "      <td>...</td>\n",
              "      <td>...</td>\n",
              "      <td>...</td>\n",
              "      <td>...</td>\n",
              "      <td>...</td>\n",
              "      <td>...</td>\n",
              "      <td>...</td>\n",
              "      <td>...</td>\n",
              "      <td>...</td>\n",
              "      <td>...</td>\n",
              "      <td>...</td>\n",
              "      <td>...</td>\n",
              "      <td>...</td>\n",
              "      <td>...</td>\n",
              "      <td>...</td>\n",
              "      <td>...</td>\n",
              "      <td>...</td>\n",
              "      <td>...</td>\n",
              "      <td>...</td>\n",
              "      <td>...</td>\n",
              "      <td>...</td>\n",
              "      <td>...</td>\n",
              "      <td>...</td>\n",
              "      <td>...</td>\n",
              "      <td>...</td>\n",
              "      <td>...</td>\n",
              "      <td>...</td>\n",
              "      <td>...</td>\n",
              "      <td>...</td>\n",
              "      <td>...</td>\n",
              "      <td>...</td>\n",
              "      <td>...</td>\n",
              "      <td>...</td>\n",
              "      <td>...</td>\n",
              "      <td>...</td>\n",
              "      <td>...</td>\n",
              "      <td>...</td>\n",
              "      <td>...</td>\n",
              "      <td>...</td>\n",
              "      <td>...</td>\n",
              "      <td>...</td>\n",
              "      <td>...</td>\n",
              "      <td>...</td>\n",
              "      <td>...</td>\n",
              "      <td>...</td>\n",
              "      <td>...</td>\n",
              "    </tr>\n",
              "    <tr>\n",
              "      <th>668517</th>\n",
              "      <td>3668518</td>\n",
              "      <td>1.529381e+09</td>\n",
              "      <td>e</td>\n",
              "      <td>1</td>\n",
              "      <td>tcp</td>\n",
              "      <td>1</td>\n",
              "      <td>192.168.100.150</td>\n",
              "      <td>35064</td>\n",
              "      <td>192.168.100.3</td>\n",
              "      <td>22</td>\n",
              "      <td>6</td>\n",
              "      <td>434</td>\n",
              "      <td>RST</td>\n",
              "      <td>1</td>\n",
              "      <td>1.529381e+09</td>\n",
              "      <td>81</td>\n",
              "      <td>0.013165</td>\n",
              "      <td>0.013165</td>\n",
              "      <td>0.000000</td>\n",
              "      <td>0.013165</td>\n",
              "      <td>0.013165</td>\n",
              "      <td>0.013165</td>\n",
              "      <td>3</td>\n",
              "      <td>3</td>\n",
              "      <td>228</td>\n",
              "      <td>206</td>\n",
              "      <td>379.794922</td>\n",
              "      <td>151.917969</td>\n",
              "      <td>151.917969</td>\n",
              "      <td>79240</td>\n",
              "      <td>79240</td>\n",
              "      <td>471</td>\n",
              "      <td>471</td>\n",
              "      <td>475</td>\n",
              "      <td>471</td>\n",
              "      <td>9.889330</td>\n",
              "      <td>9.889330</td>\n",
              "      <td>19</td>\n",
              "      <td>19</td>\n",
              "      <td>455.754000</td>\n",
              "      <td>9.889330</td>\n",
              "      <td>30</td>\n",
              "      <td>30</td>\n",
              "      <td>1</td>\n",
              "      <td>Theft</td>\n",
              "      <td>Keylogging</td>\n",
              "    </tr>\n",
              "    <tr>\n",
              "      <th>668518</th>\n",
              "      <td>3668519</td>\n",
              "      <td>1.529381e+09</td>\n",
              "      <td>e</td>\n",
              "      <td>1</td>\n",
              "      <td>tcp</td>\n",
              "      <td>1</td>\n",
              "      <td>192.168.100.150</td>\n",
              "      <td>35066</td>\n",
              "      <td>192.168.100.3</td>\n",
              "      <td>22</td>\n",
              "      <td>6</td>\n",
              "      <td>434</td>\n",
              "      <td>RST</td>\n",
              "      <td>1</td>\n",
              "      <td>1.529381e+09</td>\n",
              "      <td>82</td>\n",
              "      <td>0.000574</td>\n",
              "      <td>0.000574</td>\n",
              "      <td>0.000000</td>\n",
              "      <td>0.000574</td>\n",
              "      <td>0.000574</td>\n",
              "      <td>0.000574</td>\n",
              "      <td>3</td>\n",
              "      <td>3</td>\n",
              "      <td>228</td>\n",
              "      <td>206</td>\n",
              "      <td>8710.801758</td>\n",
              "      <td>3484.320557</td>\n",
              "      <td>3484.320557</td>\n",
              "      <td>79240</td>\n",
              "      <td>79240</td>\n",
              "      <td>471</td>\n",
              "      <td>471</td>\n",
              "      <td>475</td>\n",
              "      <td>471</td>\n",
              "      <td>9.889330</td>\n",
              "      <td>9.889330</td>\n",
              "      <td>19</td>\n",
              "      <td>19</td>\n",
              "      <td>10453.000000</td>\n",
              "      <td>9.889330</td>\n",
              "      <td>30</td>\n",
              "      <td>30</td>\n",
              "      <td>1</td>\n",
              "      <td>Theft</td>\n",
              "      <td>Keylogging</td>\n",
              "    </tr>\n",
              "    <tr>\n",
              "      <th>668519</th>\n",
              "      <td>3668520</td>\n",
              "      <td>1.529381e+09</td>\n",
              "      <td>e</td>\n",
              "      <td>1</td>\n",
              "      <td>tcp</td>\n",
              "      <td>1</td>\n",
              "      <td>192.168.100.150</td>\n",
              "      <td>35070</td>\n",
              "      <td>192.168.100.3</td>\n",
              "      <td>22</td>\n",
              "      <td>31</td>\n",
              "      <td>5472</td>\n",
              "      <td>FIN</td>\n",
              "      <td>6</td>\n",
              "      <td>1.529381e+09</td>\n",
              "      <td>84</td>\n",
              "      <td>2.874302</td>\n",
              "      <td>2.874302</td>\n",
              "      <td>0.000000</td>\n",
              "      <td>2.874302</td>\n",
              "      <td>2.874302</td>\n",
              "      <td>2.874302</td>\n",
              "      <td>14</td>\n",
              "      <td>17</td>\n",
              "      <td>1802</td>\n",
              "      <td>3670</td>\n",
              "      <td>10.437317</td>\n",
              "      <td>4.522837</td>\n",
              "      <td>5.566569</td>\n",
              "      <td>79240</td>\n",
              "      <td>79240</td>\n",
              "      <td>471</td>\n",
              "      <td>471</td>\n",
              "      <td>475</td>\n",
              "      <td>471</td>\n",
              "      <td>9.889330</td>\n",
              "      <td>9.889330</td>\n",
              "      <td>19</td>\n",
              "      <td>19</td>\n",
              "      <td>10.785200</td>\n",
              "      <td>9.889330</td>\n",
              "      <td>441</td>\n",
              "      <td>441</td>\n",
              "      <td>1</td>\n",
              "      <td>Theft</td>\n",
              "      <td>Keylogging</td>\n",
              "    </tr>\n",
              "    <tr>\n",
              "      <th>668520</th>\n",
              "      <td>3668521</td>\n",
              "      <td>1.529381e+09</td>\n",
              "      <td>e</td>\n",
              "      <td>1</td>\n",
              "      <td>tcp</td>\n",
              "      <td>1</td>\n",
              "      <td>192.168.100.3</td>\n",
              "      <td>43001</td>\n",
              "      <td>192.168.100.150</td>\n",
              "      <td>4433</td>\n",
              "      <td>2</td>\n",
              "      <td>134</td>\n",
              "      <td>RST</td>\n",
              "      <td>1</td>\n",
              "      <td>1.529381e+09</td>\n",
              "      <td>85</td>\n",
              "      <td>0.000003</td>\n",
              "      <td>0.000003</td>\n",
              "      <td>0.000000</td>\n",
              "      <td>0.000003</td>\n",
              "      <td>0.000003</td>\n",
              "      <td>0.000003</td>\n",
              "      <td>1</td>\n",
              "      <td>1</td>\n",
              "      <td>74</td>\n",
              "      <td>60</td>\n",
              "      <td>333333.312500</td>\n",
              "      <td>0.000000</td>\n",
              "      <td>0.000000</td>\n",
              "      <td>1228</td>\n",
              "      <td>134</td>\n",
              "      <td>20</td>\n",
              "      <td>2</td>\n",
              "      <td>475</td>\n",
              "      <td>4</td>\n",
              "      <td>22346.400000</td>\n",
              "      <td>666667.000000</td>\n",
              "      <td>1</td>\n",
              "      <td>3</td>\n",
              "      <td>666667.000000</td>\n",
              "      <td>22346.400000</td>\n",
              "      <td>2</td>\n",
              "      <td>4</td>\n",
              "      <td>1</td>\n",
              "      <td>Theft</td>\n",
              "      <td>Keylogging</td>\n",
              "    </tr>\n",
              "    <tr>\n",
              "      <th>668521</th>\n",
              "      <td>3668522</td>\n",
              "      <td>1.529381e+09</td>\n",
              "      <td>e</td>\n",
              "      <td>1</td>\n",
              "      <td>arp</td>\n",
              "      <td>2</td>\n",
              "      <td>192.168.100.3</td>\n",
              "      <td>-1</td>\n",
              "      <td>192.168.100.149</td>\n",
              "      <td>-1</td>\n",
              "      <td>16</td>\n",
              "      <td>960</td>\n",
              "      <td>CON</td>\n",
              "      <td>2</td>\n",
              "      <td>1.529382e+09</td>\n",
              "      <td>10</td>\n",
              "      <td>848.002686</td>\n",
              "      <td>0.000145</td>\n",
              "      <td>0.000056</td>\n",
              "      <td>0.001160</td>\n",
              "      <td>0.000080</td>\n",
              "      <td>0.000272</td>\n",
              "      <td>8</td>\n",
              "      <td>8</td>\n",
              "      <td>480</td>\n",
              "      <td>480</td>\n",
              "      <td>0.017689</td>\n",
              "      <td>0.008255</td>\n",
              "      <td>0.008255</td>\n",
              "      <td>1228</td>\n",
              "      <td>1094</td>\n",
              "      <td>20</td>\n",
              "      <td>18</td>\n",
              "      <td>16</td>\n",
              "      <td>16</td>\n",
              "      <td>0.018868</td>\n",
              "      <td>0.018868</td>\n",
              "      <td>2</td>\n",
              "      <td>3</td>\n",
              "      <td>0.018868</td>\n",
              "      <td>0.018868</td>\n",
              "      <td>16</td>\n",
              "      <td>16</td>\n",
              "      <td>1</td>\n",
              "      <td>Theft</td>\n",
              "      <td>Keylogging</td>\n",
              "    </tr>\n",
              "  </tbody>\n",
              "</table>\n",
              "<p>3668522 rows × 46 columns</p>\n",
              "</div>"
            ],
            "text/plain": [
              "        pkSeqID         stime flgs  ...  attack category  subcategory\n",
              "0             1  1.528089e+09    e  ...       1      DoS         HTTP\n",
              "1             2  1.528089e+09    e  ...       1      DoS         HTTP\n",
              "2             3  1.528089e+09    e  ...       1      DoS         HTTP\n",
              "3             4  1.528089e+09    e  ...       1      DoS         HTTP\n",
              "4             5  1.528089e+09    e  ...       1      DoS         HTTP\n",
              "...         ...           ...  ...  ...     ...      ...          ...\n",
              "668517  3668518  1.529381e+09    e  ...       1    Theft   Keylogging\n",
              "668518  3668519  1.529381e+09    e  ...       1    Theft   Keylogging\n",
              "668519  3668520  1.529381e+09    e  ...       1    Theft   Keylogging\n",
              "668520  3668521  1.529381e+09    e  ...       1    Theft   Keylogging\n",
              "668521  3668522  1.529381e+09    e  ...       1    Theft   Keylogging\n",
              "\n",
              "[3668522 rows x 46 columns]"
            ]
          },
          "metadata": {},
          "execution_count": 2
        }
      ]
    },
    {
      "cell_type": "markdown",
      "metadata": {
        "id": "TSrgHW9MV3Yx"
      },
      "source": [
        "#### For charts, visualize the no. of each unique value in the proto and category columns****"
      ]
    },
    {
      "cell_type": "code",
      "metadata": {
        "colab": {
          "base_uri": "https://localhost:8080/"
        },
        "id": "kfgvoDGlOeK2",
        "outputId": "9a627523-4a29-4726-abba-cf355215477a"
      },
      "source": [
        "# list all dataset columns\n",
        "print(\"Full Dataset Columns\", full_dataset.columns, sep='\\n',\n",
        "      end='\\n\\n')\n",
        "print(\"Unique values in the 'category' column\", \n",
        "      full_dataset['category'].unique(), sep='\\n')"
      ],
      "execution_count": null,
      "outputs": [
        {
          "output_type": "stream",
          "name": "stdout",
          "text": [
            "Full Dataset Columns\n",
            "Index(['pkSeqID', 'stime', 'flgs', 'flgs_number', 'proto', 'proto_number',\n",
            "       'saddr', 'sport', 'daddr', 'dport', 'pkts', 'bytes', 'state',\n",
            "       'state_number', 'ltime', 'seq', 'dur', 'mean', 'stddev', 'sum', 'min',\n",
            "       'max', 'spkts', 'dpkts', 'sbytes', 'dbytes', 'rate', 'srate', 'drate',\n",
            "       'TnBPSrcIP', 'TnBPDstIP', 'TnP_PSrcIP', 'TnP_PDstIP', 'TnP_PerProto',\n",
            "       'TnP_Per_Dport', 'AR_P_Proto_P_SrcIP', 'AR_P_Proto_P_DstIP',\n",
            "       'N_IN_Conn_P_DstIP', 'N_IN_Conn_P_SrcIP', 'AR_P_Proto_P_Sport',\n",
            "       'AR_P_Proto_P_Dport', 'Pkts_P_State_P_Protocol_P_DestIP',\n",
            "       'Pkts_P_State_P_Protocol_P_SrcIP', 'attack', 'category', 'subcategory'],\n",
            "      dtype='object')\n",
            "\n",
            "Unique values in the 'category' column\n",
            "['DoS' 'DDoS' 'Normal' 'Reconnaissance' 'Theft']\n"
          ]
        }
      ]
    },
    {
      "cell_type": "code",
      "metadata": {
        "colab": {
          "base_uri": "https://localhost:8080/"
        },
        "id": "IegxWJN7RKxi",
        "outputId": "ee06f359-1a57-473a-edb0-b38823b1ab38"
      },
      "source": [
        "# best features according to the BoT_IoT documentation\n",
        "# best_features = ['Unnamed: 0', 'pkSeqID', 'proto', 'saddr', 'sport', 'daddr', 'dport',\n",
        "#                   'seq', 'stddev', 'N_IN_Conn_P_SrcIP', 'min', 'state_number', 'mean',\n",
        "#                   'N_IN_Conn_P_DstIP', 'drate', 'srate', 'max', 'attack', 'category',\n",
        "#                   'subcategory']\n",
        "\n",
        "# the features I want to use for prototyping\n",
        "trial_features = ['proto_number', 'flgs_number', 'pkts', 'bytes', 'dur',\n",
        "                  'spkts', 'dpkts', 'sbytes', 'dbytes',\n",
        "                  'seq', 'stddev', 'N_IN_Conn_P_SrcIP', 'min', 'state_number',\n",
        "                  'mean', 'N_IN_Conn_P_DstIP', 'drate', 'srate', 'max',\n",
        "                  'category']\n",
        "\n",
        "subset_dataset =  full_dataset[trial_features]\n",
        "print(subset_dataset)"
      ],
      "execution_count": null,
      "outputs": [
        {
          "output_type": "stream",
          "name": "stdout",
          "text": [
            "        proto_number  flgs_number  pkts  ...        srate       max  category\n",
            "0                  1            1     8  ...     0.566862  0.137818       DoS\n",
            "1                  2            1     2  ...     0.000000  0.000131       DoS\n",
            "2                  1            1     8  ...     0.567549  0.128988       DoS\n",
            "3                  1            1     8  ...     0.567570  0.128378       DoS\n",
            "4                  1            1     8  ...     0.567630  0.127774       DoS\n",
            "...              ...          ...   ...  ...          ...       ...       ...\n",
            "668517             1            1     6  ...   151.917969  0.013165     Theft\n",
            "668518             1            1     6  ...  3484.320557  0.000574     Theft\n",
            "668519             1            1    31  ...     4.522837  2.874302     Theft\n",
            "668520             1            1     2  ...     0.000000  0.000003     Theft\n",
            "668521             2            1    16  ...     0.008255  0.000272     Theft\n",
            "\n",
            "[3668522 rows x 20 columns]\n"
          ]
        }
      ]
    },
    {
      "cell_type": "code",
      "metadata": {
        "colab": {
          "base_uri": "https://localhost:8080/",
          "height": 363
        },
        "id": "FOyvTJNweNQt",
        "outputId": "2ce9149d-3060-4c0d-a5f5-1324340eda0d"
      },
      "source": [
        "# check the number of unique values in the target variable\n",
        "print(subset_dataset['category'].value_counts())\n",
        "subset_dataset['category'].value_counts().plot(kind = 'pie',\n",
        "                                               explode = [0, 0, 0, 0.1, 0.1],\n",
        "                                               figsize = (10, 10),\n",
        "                                               autopct = '%1.3f%%',\n",
        "                                               shadow = False)\n",
        "plt.ylabel(\"Categories of Attack\")\n",
        "plt.legend([\"DDos\", \"Dos\", \"Reconnaissance\", \"Normal\", \"Theft\"])\n",
        "plt.show()"
      ],
      "execution_count": null,
      "outputs": [
        {
          "name": "stdout",
          "output_type": "stream",
          "text": [
            "DDoS              1926624\n",
            "DoS               1650260\n",
            "Reconnaissance      91082\n",
            "Normal                477\n",
            "Theft                  79\n",
            "Name: category, dtype: int64\n"
          ]
        },
        {
          "data": {
            "image/png": "[encoded data removed]",
            "text/plain": [
              "<Figure size 720x720 with 1 Axes>"
            ]
          },
          "metadata": {},
          "output_type": "display_data"
        }
      ]
    },
    {
      "cell_type": "code",
      "metadata": {
        "colab": {
          "base_uri": "https://localhost:8080/"
        },
        "id": "f_4VzytahWJp",
        "outputId": "ef63a286-9f3a-4a68-8fef-0e98112323f2"
      },
      "source": [
        "# check the data type of dataframe columns\n",
        "subset_dataset.dtypes"
      ],
      "execution_count": null,
      "outputs": [
        {
          "data": {
            "text/plain": [
              "proto_number           int64\n",
              "flgs_number            int64\n",
              "pkts                   int64\n",
              "bytes                  int64\n",
              "dur                  float64\n",
              "spkts                  int64\n",
              "dpkts                  int64\n",
              "sbytes                 int64\n",
              "dbytes                 int64\n",
              "seq                    int64\n",
              "stddev               float64\n",
              "N_IN_Conn_P_SrcIP      int64\n",
              "min                  float64\n",
              "state_number           int64\n",
              "mean                 float64\n",
              "N_IN_Conn_P_DstIP      int64\n",
              "drate                float64\n",
              "srate                float64\n",
              "max                  float64\n",
              "category              object\n",
              "dtype: object"
            ]
          },
          "execution_count": 6,
          "metadata": {},
          "output_type": "execute_result"
        }
      ]
    },
    {
      "cell_type": "markdown",
      "metadata": {
        "id": "7rv4WPs_ykfy"
      },
      "source": [
        "### Since the data with `Theft` is small, we remove the rows."
      ]
    },
    {
      "cell_type": "code",
      "metadata": {
        "colab": {
          "base_uri": "https://localhost:8080/",
          "height": 670
        },
        "id": "aAIq04e9yR-_",
        "outputId": "24ad606d-2c99-474c-f055-6f87b7fe9e84"
      },
      "source": [
        "dataset_without_theft = subset_dataset[subset_dataset.category != \"Theft\"]\n",
        "dataset_without_theft\n",
        "\n",
        "# check the number of unique values in the target variable\n",
        "print(dataset_without_theft['category'].value_counts())\n",
        "dataset_without_theft['category'].value_counts().plot(kind = 'pie',\n",
        "                                               explode = [0, 0, 0.1, 0.1],\n",
        "                                               figsize = (10, 10),\n",
        "                                               autopct = '%1.3f%%',\n",
        "                                               shadow = False)\n",
        "plt.ylabel(\"Categories of Attack\")\n",
        "plt.legend([\"DDos\", \"Dos\", \"Reconnaissance\", \"Normal\"])\n",
        "plt.show()"
      ],
      "execution_count": null,
      "outputs": [
        {
          "output_type": "stream",
          "name": "stdout",
          "text": [
            "DDoS              1926624\n",
            "DoS               1650260\n",
            "Reconnaissance      91082\n",
            "Normal                477\n",
            "Name: category, dtype: int64\n"
          ]
        },
        {
          "output_type": "display_data",
          "data": {
            "image/png": "[encoded data removed]",
            "text/plain": [
              "<Figure size 720x720 with 1 Axes>"
            ]
          },
          "metadata": {}
        }
      ]
    },
    {
      "cell_type": "code",
      "metadata": {
        "id": "JRHgmboiiadP"
      },
      "source": [
        "# # The sport and dport columns are objects. We need to convert them to integers.\n",
        "# subset_dataset[\"dport\"] = pd.to_numeric(subset_dataset[\"dport\"])\n",
        "# subset_dataset[\"sport\"] = pd.to_numeric(subset_dataset[\"sport\"])\n",
        "# #not all the strings in these columns can be parsed. I will figure another way out latet.\n",
        "# subset_dataset.dtypes"
      ],
      "execution_count": null,
      "outputs": []
    },
    {
      "cell_type": "code",
      "metadata": {
        "colab": {
          "base_uri": "https://localhost:8080/"
        },
        "id": "yVJR6NklcjVr",
        "outputId": "2538d6da-184e-46aa-d0ae-55806800d330"
      },
      "source": [
        "X = dataset_without_theft.iloc[:, :-1].values\n",
        "y = dataset_without_theft.category\n",
        "print(X)\n",
        "print(y)\n",
        "print(len(X))"
      ],
      "execution_count": null,
      "outputs": [
        {
          "output_type": "stream",
          "name": "stdout",
          "text": [
            "[[1.0000000e+00 1.0000000e+00 8.0000000e+00 ... 1.4511893e+01\n",
            "  5.6686200e-01 1.3781800e-01]\n",
            " [2.0000000e+00 1.0000000e+00 2.0000000e+00 ... 0.0000000e+00\n",
            "  0.0000000e+00 1.3100000e-04]\n",
            " [1.0000000e+00 1.0000000e+00 8.0000000e+00 ... 1.5505319e+01\n",
            "  5.6754900e-01 1.2898800e-01]\n",
            " ...\n",
            " [1.0000000e+00 1.0000000e+00 2.0000000e+00 ... 0.0000000e+00\n",
            "  0.0000000e+00 7.8000000e-05]\n",
            " [1.0000000e+00 1.0000000e+00 2.0000000e+00 ... 0.0000000e+00\n",
            "  0.0000000e+00 9.1000000e-05]\n",
            " [1.0000000e+00 1.0000000e+00 2.0000000e+00 ... 0.0000000e+00\n",
            "  0.0000000e+00 1.3100000e-04]]\n",
            "0                    DoS\n",
            "1                    DoS\n",
            "2                    DoS\n",
            "3                    DoS\n",
            "4                    DoS\n",
            "               ...      \n",
            "668438    Reconnaissance\n",
            "668439    Reconnaissance\n",
            "668440    Reconnaissance\n",
            "668441    Reconnaissance\n",
            "668442    Reconnaissance\n",
            "Name: category, Length: 3668443, dtype: object\n",
            "3668443\n"
          ]
        }
      ]
    },
    {
      "cell_type": "markdown",
      "metadata": {
        "id": "ZtoUYKw6bdx7"
      },
      "source": [
        "### Label Encode the target variable"
      ]
    },
    {
      "cell_type": "code",
      "metadata": {
        "colab": {
          "base_uri": "https://localhost:8080/"
        },
        "id": "M4Sc3-4XbcjQ",
        "outputId": "92eeb41e-8e9a-4955-8762-cb446227e8e3"
      },
      "source": [
        "from sklearn.preprocessing import LabelEncoder\n",
        "\n",
        "label_encoder = LabelEncoder()\n",
        "encoded_y = label_encoder.fit_transform(y)\n",
        "label_encoder_name_mapping = dict(zip(label_encoder.classes_,\n",
        "                                     label_encoder.transform(label_encoder.classes_)))\n",
        "print(\"Mapping of Label Encoded Classes\", label_encoder_name_mapping, sep=\"\\n\")"
      ],
      "execution_count": null,
      "outputs": [
        {
          "output_type": "stream",
          "name": "stdout",
          "text": [
            "Mapping of Label Encoded Classes\n",
            "{'DDoS': 0, 'DoS': 1, 'Normal': 2, 'Reconnaissance': 3}\n"
          ]
        }
      ]
    },
    {
      "cell_type": "code",
      "metadata": {
        "colab": {
          "base_uri": "https://localhost:8080/"
        },
        "id": "cVC3DT1wbcg4",
        "outputId": "a9427db2-aa6a-446f-d0cf-d91ea5333bf6"
      },
      "source": [
        "# Splitting Dataset into Training and Validation Set\n",
        "from sklearn.model_selection import train_test_split\n",
        "X_train, X_val, y_train, y_val = train_test_split(X, encoded_y, test_size=0.25,\n",
        "                                                  random_state=0, \n",
        "                                                  stratify=encoded_y)\n",
        "\n",
        "print('X Training set', X_train, sep='\\n')\n",
        "print('X Validation set', X_val, sep='\\n')\n",
        "print('y Training set', y_train, sep='\\n')\n",
        "print('y Validation set', y_val, sep='\\n')"
      ],
      "execution_count": null,
      "outputs": [
        {
          "output_type": "stream",
          "name": "stdout",
          "text": [
            "X Training set\n",
            "[[ 1.        2.        7.       ...  0.        0.405716  3.177885]\n",
            " [ 1.        1.        1.       ...  0.        0.        0.      ]\n",
            " [ 3.        1.        7.       ...  0.        0.188637  4.194689]\n",
            " ...\n",
            " [ 1.        1.        1.       ...  0.        0.        0.      ]\n",
            " [ 1.        2.        6.       ...  0.        0.372525  3.607411]\n",
            " [ 3.        1.       11.       ...  0.        0.417605  4.729659]]\n",
            "X Validation set\n",
            "[[ 3.        1.       10.       ...  0.        0.345002  4.992061]\n",
            " [ 1.        2.        4.       ...  0.        0.093853  0.      ]\n",
            " [ 3.        1.        8.       ...  0.        0.217094  3.942972]\n",
            " ...\n",
            " [ 1.        1.        1.       ...  0.        0.        0.      ]\n",
            " [ 3.        1.        7.       ...  0.        0.490624  4.113427]\n",
            " [ 3.        1.        8.       ...  0.        0.490371  4.116008]]\n",
            "y Training set\n",
            "[1 1 1 ... 0 0 0]\n",
            "y Validation set\n",
            "[1 1 1 ... 0 0 0]\n"
          ]
        }
      ]
    },
    {
      "cell_type": "markdown",
      "metadata": {
        "id": "CCcMGJCOgpJ_"
      },
      "source": [
        "### Feature Scaling"
      ]
    },
    {
      "cell_type": "code",
      "metadata": {
        "colab": {
          "base_uri": "https://localhost:8080/"
        },
        "id": "ZL_D7BDignmQ",
        "outputId": "0f3cd2a8-e563-41ae-bc67-328e87b5926d"
      },
      "source": [
        "# Feature Scaling\n",
        "from sklearn.preprocessing import StandardScaler\n",
        "\n",
        "scaler = StandardScaler()\n",
        "scaled_X_train = scaler.fit_transform(X_train)\n",
        "scaled_X_val = scaler.transform(X_val)\n",
        "print(scaled_X_train)\n",
        "print(scaled_X_val)\n",
        "print(len(scaled_X_train))\n",
        "print(len(scaled_X_val))"
      ],
      "execution_count": null,
      "outputs": [
        {
          "output_type": "stream",
          "name": "stdout",
          "text": [
            "[[-1.09679713  0.58911721 -0.00624635 ... -0.00673943 -0.00337244\n",
            "   0.08470298]\n",
            " [-1.09679713 -0.56664577 -0.05438187 ... -0.00673943 -0.00387523\n",
            "  -1.6232958 ]\n",
            " [ 0.90503115 -0.56664577 -0.00624635 ... -0.00673943 -0.00364146\n",
            "   0.63119852]\n",
            " ...\n",
            " [-1.09679713 -0.56664577 -0.05438187 ... -0.00673943 -0.00387523\n",
            "  -1.6232958 ]\n",
            " [-1.09679713  0.58911721 -0.01426894 ... -0.00673943 -0.00341357\n",
            "   0.31555774]\n",
            " [ 0.90503115 -0.56664577  0.02584399 ... -0.00673943 -0.00335771\n",
            "   0.91872563]]\n",
            "[[ 0.90503115 -0.56664577  0.01782141 ... -0.00673943 -0.00344768\n",
            "   1.05975726]\n",
            " [-1.09679713  0.58911721 -0.03031411 ... -0.00673943 -0.00375892\n",
            "  -1.6232958 ]\n",
            " [ 0.90503115 -0.56664577  0.00177623 ... -0.00673943 -0.00360619\n",
            "   0.49590969]\n",
            " ...\n",
            " [-1.09679713 -0.56664577 -0.05438187 ... -0.00673943 -0.00387523\n",
            "  -1.6232958 ]\n",
            " [ 0.90503115 -0.56664577 -0.00624635 ... -0.00673943 -0.00326722\n",
            "   0.58752312]\n",
            " [ 0.90503115 -0.56664577  0.00177623 ... -0.00673943 -0.00326753\n",
            "   0.58891032]]\n",
            "2751332\n",
            "917111\n"
          ]
        }
      ]
    },
    {
      "cell_type": "markdown",
      "metadata": {
        "id": "xhRk-QQpl5E7"
      },
      "source": [
        "### Train Model"
      ]
    },
    {
      "cell_type": "code",
      "metadata": {
        "id": "ZOqTUcVmm711"
      },
      "source": [
        "from sklearn.metrics import confusion_matrix, accuracy_score, recall_score\n",
        "from sklearn.metrics import precision_score, f1_score, ConfusionMatrixDisplay\n",
        "from sklearn.metrics import classification_report\n",
        "\n",
        "def evaluate_model(y_val, y_pred):\n",
        "  \"\"\"Function to evaluate model and return the metric of the model\n",
        "  \n",
        "  It returns a dictionary with the classification metrics.\n",
        "  \"\"\"\n",
        "  accuracy = accuracy_score(y_val, y_pred)\n",
        "  precision = precision_score(y_val, y_pred, average='macro')\n",
        "  recall = recall_score(y_val, y_pred, average='macro')\n",
        "  f1 = f1_score(y_val, y_pred, average='macro')\n",
        "  result = {\"accuracy_score\": accuracy,\n",
        "            \"precision_score\": precision,\n",
        "            \"recall_score\": recall,\n",
        "            \"f1_score\": f1}\n",
        "  return result\n",
        "\n",
        "def plot_confusion_matrix(y_val, y_pred, label):\n",
        "  '''function to plot confusion matrix\n",
        "\n",
        "  Args\n",
        "  y_val: array. The validation set of the target variable.\n",
        "  y_pred: array. Model's prediction.\n",
        "  label: list. A list containing all the classes in the target variable\n",
        "\n",
        "  Returns\n",
        "  It returns a plot of the confusion matrix\n",
        "  '''\n",
        "  cm = confusion_matrix(y_val, y_pred)\n",
        "  fig, ax = plt.subplots(figsize=(10,10))\n",
        "  ConfusionMatrixDisplay(cm, display_labels=label).plot(ax=ax, values_format='')\n",
        "\n",
        "# class labels\n",
        "label = ['DDoS', 'DoS',  'Normal', 'Reconnaissance']"
      ],
      "execution_count": null,
      "outputs": []
    },
    {
      "cell_type": "markdown",
      "metadata": {
        "id": "BIHPYxSGS4fI"
      },
      "source": [
        "### Logistic Regression"
      ]
    },
    {
      "cell_type": "code",
      "metadata": {
        "colab": {
          "base_uri": "https://localhost:8080/",
          "height": 387
        },
        "id": "b4taA51_kCre",
        "outputId": "03de108d-af53-4ee5-b128-ea62a7ba6417"
      },
      "source": [
        "from sklearn.linear_model import LogisticRegression\n",
        "\n",
        "logistic_regression_model = LogisticRegression(max_iter=1000) # , solver='liblinear'\n",
        "logistic_regression_model.fit(scaled_X_train, y_train)\n",
        "logistic_regression_y_pred = logistic_regression_model.predict(scaled_X_val)\n",
        "print(evaluate_model(y_val, logistic_regression_y_pred))\n",
        "plot_confusion_matrix(y_val, logistic_regression_y_pred, label)\n",
        "print(classification_report(y_val, logistic_regression_y_pred))"
      ],
      "execution_count": null,
      "outputs": [
        {
          "output_type": "error",
          "ename": "KeyboardInterrupt",
          "evalue": "ignored",
          "traceback": [
            "\u001b[0;31m---------------------------------------------------------------------------\u001b[0m",
            "\u001b[0;31mKeyboardInterrupt\u001b[0m                         Traceback (most recent call last)",
            "\u001b[0;32m<ipython-input-11-170aa34498fa>\u001b[0m in \u001b[0;36m<module>\u001b[0;34m()\u001b[0m\n\u001b[1;32m      2\u001b[0m \u001b[0;34m\u001b[0m\u001b[0m\n\u001b[1;32m      3\u001b[0m \u001b[0mlogistic_regression_model\u001b[0m \u001b[0;34m=\u001b[0m \u001b[0mLogisticRegression\u001b[0m\u001b[0;34m(\u001b[0m\u001b[0mmax_iter\u001b[0m\u001b[0;34m=\u001b[0m\u001b[0;36m1000\u001b[0m\u001b[0;34m)\u001b[0m \u001b[0;31m# , solver='liblinear'\u001b[0m\u001b[0;34m\u001b[0m\u001b[0;34m\u001b[0m\u001b[0m\n\u001b[0;32m----> 4\u001b[0;31m \u001b[0mlogistic_regression_model\u001b[0m\u001b[0;34m.\u001b[0m\u001b[0mfit\u001b[0m\u001b[0;34m(\u001b[0m\u001b[0mscaled_X_train\u001b[0m\u001b[0;34m,\u001b[0m \u001b[0my_train\u001b[0m\u001b[0;34m)\u001b[0m\u001b[0;34m\u001b[0m\u001b[0;34m\u001b[0m\u001b[0m\n\u001b[0m\u001b[1;32m      5\u001b[0m \u001b[0mlogistic_regression_y_pred\u001b[0m \u001b[0;34m=\u001b[0m \u001b[0mlogistic_regression_model\u001b[0m\u001b[0;34m.\u001b[0m\u001b[0mpredict\u001b[0m\u001b[0;34m(\u001b[0m\u001b[0mscaled_X_val\u001b[0m\u001b[0;34m)\u001b[0m\u001b[0;34m\u001b[0m\u001b[0;34m\u001b[0m\u001b[0m\n\u001b[1;32m      6\u001b[0m \u001b[0mprint\u001b[0m\u001b[0;34m(\u001b[0m\u001b[0mevaluate_model\u001b[0m\u001b[0;34m(\u001b[0m\u001b[0my_val\u001b[0m\u001b[0;34m,\u001b[0m \u001b[0mlogistic_regression_y_pred\u001b[0m\u001b[0;34m)\u001b[0m\u001b[0;34m)\u001b[0m\u001b[0;34m\u001b[0m\u001b[0;34m\u001b[0m\u001b[0m\n",
            "\u001b[0;32m/usr/local/lib/python3.7/dist-packages/sklearn/linear_model/_logistic.py\u001b[0m in \u001b[0;36mfit\u001b[0;34m(self, X, y, sample_weight)\u001b[0m\n\u001b[1;32m   1599\u001b[0m                       \u001b[0mpenalty\u001b[0m\u001b[0;34m=\u001b[0m\u001b[0mpenalty\u001b[0m\u001b[0;34m,\u001b[0m \u001b[0mmax_squared_sum\u001b[0m\u001b[0;34m=\u001b[0m\u001b[0mmax_squared_sum\u001b[0m\u001b[0;34m,\u001b[0m\u001b[0;34m\u001b[0m\u001b[0;34m\u001b[0m\u001b[0m\n\u001b[1;32m   1600\u001b[0m                       sample_weight=sample_weight)\n\u001b[0;32m-> 1601\u001b[0;31m             for class_, warm_start_coef_ in zip(classes_, warm_start_coef))\n\u001b[0m\u001b[1;32m   1602\u001b[0m \u001b[0;34m\u001b[0m\u001b[0m\n\u001b[1;32m   1603\u001b[0m         \u001b[0mfold_coefs_\u001b[0m\u001b[0;34m,\u001b[0m \u001b[0m_\u001b[0m\u001b[0;34m,\u001b[0m \u001b[0mn_iter_\u001b[0m \u001b[0;34m=\u001b[0m \u001b[0mzip\u001b[0m\u001b[0;34m(\u001b[0m\u001b[0;34m*\u001b[0m\u001b[0mfold_coefs_\u001b[0m\u001b[0;34m)\u001b[0m\u001b[0;34m\u001b[0m\u001b[0;34m\u001b[0m\u001b[0m\n",
            "\u001b[0;32m/usr/local/lib/python3.7/dist-packages/joblib/parallel.py\u001b[0m in \u001b[0;36m__call__\u001b[0;34m(self, iterable)\u001b[0m\n\u001b[1;32m   1039\u001b[0m             \u001b[0;31m# remaining jobs.\u001b[0m\u001b[0;34m\u001b[0m\u001b[0;34m\u001b[0m\u001b[0;34m\u001b[0m\u001b[0m\n\u001b[1;32m   1040\u001b[0m             \u001b[0mself\u001b[0m\u001b[0;34m.\u001b[0m\u001b[0m_iterating\u001b[0m \u001b[0;34m=\u001b[0m \u001b[0;32mFalse\u001b[0m\u001b[0;34m\u001b[0m\u001b[0;34m\u001b[0m\u001b[0m\n\u001b[0;32m-> 1041\u001b[0;31m             \u001b[0;32mif\u001b[0m \u001b[0mself\u001b[0m\u001b[0;34m.\u001b[0m\u001b[0mdispatch_one_batch\u001b[0m\u001b[0;34m(\u001b[0m\u001b[0miterator\u001b[0m\u001b[0;34m)\u001b[0m\u001b[0;34m:\u001b[0m\u001b[0;34m\u001b[0m\u001b[0;34m\u001b[0m\u001b[0m\n\u001b[0m\u001b[1;32m   1042\u001b[0m                 \u001b[0mself\u001b[0m\u001b[0;34m.\u001b[0m\u001b[0m_iterating\u001b[0m \u001b[0;34m=\u001b[0m \u001b[0mself\u001b[0m\u001b[0;34m.\u001b[0m\u001b[0m_original_iterator\u001b[0m \u001b[0;32mis\u001b[0m \u001b[0;32mnot\u001b[0m \u001b[0;32mNone\u001b[0m\u001b[0;34m\u001b[0m\u001b[0;34m\u001b[0m\u001b[0m\n\u001b[1;32m   1043\u001b[0m \u001b[0;34m\u001b[0m\u001b[0m\n",
            "\u001b[0;32m/usr/local/lib/python3.7/dist-packages/joblib/parallel.py\u001b[0m in \u001b[0;36mdispatch_one_batch\u001b[0;34m(self, iterator)\u001b[0m\n\u001b[1;32m    857\u001b[0m                 \u001b[0;32mreturn\u001b[0m \u001b[0;32mFalse\u001b[0m\u001b[0;34m\u001b[0m\u001b[0;34m\u001b[0m\u001b[0m\n\u001b[1;32m    858\u001b[0m             \u001b[0;32melse\u001b[0m\u001b[0;34m:\u001b[0m\u001b[0;34m\u001b[0m\u001b[0;34m\u001b[0m\u001b[0m\n\u001b[0;32m--> 859\u001b[0;31m                 \u001b[0mself\u001b[0m\u001b[0;34m.\u001b[0m\u001b[0m_dispatch\u001b[0m\u001b[0;34m(\u001b[0m\u001b[0mtasks\u001b[0m\u001b[0;34m)\u001b[0m\u001b[0;34m\u001b[0m\u001b[0;34m\u001b[0m\u001b[0m\n\u001b[0m\u001b[1;32m    860\u001b[0m                 \u001b[0;32mreturn\u001b[0m \u001b[0;32mTrue\u001b[0m\u001b[0;34m\u001b[0m\u001b[0;34m\u001b[0m\u001b[0m\n\u001b[1;32m    861\u001b[0m \u001b[0;34m\u001b[0m\u001b[0m\n",
            "\u001b[0;32m/usr/local/lib/python3.7/dist-packages/joblib/parallel.py\u001b[0m in \u001b[0;36m_dispatch\u001b[0;34m(self, batch)\u001b[0m\n\u001b[1;32m    775\u001b[0m         \u001b[0;32mwith\u001b[0m \u001b[0mself\u001b[0m\u001b[0;34m.\u001b[0m\u001b[0m_lock\u001b[0m\u001b[0;34m:\u001b[0m\u001b[0;34m\u001b[0m\u001b[0;34m\u001b[0m\u001b[0m\n\u001b[1;32m    776\u001b[0m             \u001b[0mjob_idx\u001b[0m \u001b[0;34m=\u001b[0m \u001b[0mlen\u001b[0m\u001b[0;34m(\u001b[0m\u001b[0mself\u001b[0m\u001b[0;34m.\u001b[0m\u001b[0m_jobs\u001b[0m\u001b[0;34m)\u001b[0m\u001b[0;34m\u001b[0m\u001b[0;34m\u001b[0m\u001b[0m\n\u001b[0;32m--> 777\u001b[0;31m             \u001b[0mjob\u001b[0m \u001b[0;34m=\u001b[0m \u001b[0mself\u001b[0m\u001b[0;34m.\u001b[0m\u001b[0m_backend\u001b[0m\u001b[0;34m.\u001b[0m\u001b[0mapply_async\u001b[0m\u001b[0;34m(\u001b[0m\u001b[0mbatch\u001b[0m\u001b[0;34m,\u001b[0m \u001b[0mcallback\u001b[0m\u001b[0;34m=\u001b[0m\u001b[0mcb\u001b[0m\u001b[0;34m)\u001b[0m\u001b[0;34m\u001b[0m\u001b[0;34m\u001b[0m\u001b[0m\n\u001b[0m\u001b[1;32m    778\u001b[0m             \u001b[0;31m# A job can complete so quickly than its callback is\u001b[0m\u001b[0;34m\u001b[0m\u001b[0;34m\u001b[0m\u001b[0;34m\u001b[0m\u001b[0m\n\u001b[1;32m    779\u001b[0m             \u001b[0;31m# called before we get here, causing self._jobs to\u001b[0m\u001b[0;34m\u001b[0m\u001b[0;34m\u001b[0m\u001b[0;34m\u001b[0m\u001b[0m\n",
            "\u001b[0;32m/usr/local/lib/python3.7/dist-packages/joblib/_parallel_backends.py\u001b[0m in \u001b[0;36mapply_async\u001b[0;34m(self, func, callback)\u001b[0m\n\u001b[1;32m    206\u001b[0m     \u001b[0;32mdef\u001b[0m \u001b[0mapply_async\u001b[0m\u001b[0;34m(\u001b[0m\u001b[0mself\u001b[0m\u001b[0;34m,\u001b[0m \u001b[0mfunc\u001b[0m\u001b[0;34m,\u001b[0m \u001b[0mcallback\u001b[0m\u001b[0;34m=\u001b[0m\u001b[0;32mNone\u001b[0m\u001b[0;34m)\u001b[0m\u001b[0;34m:\u001b[0m\u001b[0;34m\u001b[0m\u001b[0;34m\u001b[0m\u001b[0m\n\u001b[1;32m    207\u001b[0m         \u001b[0;34m\"\"\"Schedule a func to be run\"\"\"\u001b[0m\u001b[0;34m\u001b[0m\u001b[0;34m\u001b[0m\u001b[0m\n\u001b[0;32m--> 208\u001b[0;31m         \u001b[0mresult\u001b[0m \u001b[0;34m=\u001b[0m \u001b[0mImmediateResult\u001b[0m\u001b[0;34m(\u001b[0m\u001b[0mfunc\u001b[0m\u001b[0;34m)\u001b[0m\u001b[0;34m\u001b[0m\u001b[0;34m\u001b[0m\u001b[0m\n\u001b[0m\u001b[1;32m    209\u001b[0m         \u001b[0;32mif\u001b[0m \u001b[0mcallback\u001b[0m\u001b[0;34m:\u001b[0m\u001b[0;34m\u001b[0m\u001b[0;34m\u001b[0m\u001b[0m\n\u001b[1;32m    210\u001b[0m             \u001b[0mcallback\u001b[0m\u001b[0;34m(\u001b[0m\u001b[0mresult\u001b[0m\u001b[0;34m)\u001b[0m\u001b[0;34m\u001b[0m\u001b[0;34m\u001b[0m\u001b[0m\n",
            "\u001b[0;32m/usr/local/lib/python3.7/dist-packages/joblib/_parallel_backends.py\u001b[0m in \u001b[0;36m__init__\u001b[0;34m(self, batch)\u001b[0m\n\u001b[1;32m    570\u001b[0m         \u001b[0;31m# Don't delay the application, to avoid keeping the input\u001b[0m\u001b[0;34m\u001b[0m\u001b[0;34m\u001b[0m\u001b[0;34m\u001b[0m\u001b[0m\n\u001b[1;32m    571\u001b[0m         \u001b[0;31m# arguments in memory\u001b[0m\u001b[0;34m\u001b[0m\u001b[0;34m\u001b[0m\u001b[0;34m\u001b[0m\u001b[0m\n\u001b[0;32m--> 572\u001b[0;31m         \u001b[0mself\u001b[0m\u001b[0;34m.\u001b[0m\u001b[0mresults\u001b[0m \u001b[0;34m=\u001b[0m \u001b[0mbatch\u001b[0m\u001b[0;34m(\u001b[0m\u001b[0;34m)\u001b[0m\u001b[0;34m\u001b[0m\u001b[0;34m\u001b[0m\u001b[0m\n\u001b[0m\u001b[1;32m    573\u001b[0m \u001b[0;34m\u001b[0m\u001b[0m\n\u001b[1;32m    574\u001b[0m     \u001b[0;32mdef\u001b[0m \u001b[0mget\u001b[0m\u001b[0;34m(\u001b[0m\u001b[0mself\u001b[0m\u001b[0;34m)\u001b[0m\u001b[0;34m:\u001b[0m\u001b[0;34m\u001b[0m\u001b[0;34m\u001b[0m\u001b[0m\n",
            "\u001b[0;32m/usr/local/lib/python3.7/dist-packages/joblib/parallel.py\u001b[0m in \u001b[0;36m__call__\u001b[0;34m(self)\u001b[0m\n\u001b[1;32m    261\u001b[0m         \u001b[0;32mwith\u001b[0m \u001b[0mparallel_backend\u001b[0m\u001b[0;34m(\u001b[0m\u001b[0mself\u001b[0m\u001b[0;34m.\u001b[0m\u001b[0m_backend\u001b[0m\u001b[0;34m,\u001b[0m \u001b[0mn_jobs\u001b[0m\u001b[0;34m=\u001b[0m\u001b[0mself\u001b[0m\u001b[0;34m.\u001b[0m\u001b[0m_n_jobs\u001b[0m\u001b[0;34m)\u001b[0m\u001b[0;34m:\u001b[0m\u001b[0;34m\u001b[0m\u001b[0;34m\u001b[0m\u001b[0m\n\u001b[1;32m    262\u001b[0m             return [func(*args, **kwargs)\n\u001b[0;32m--> 263\u001b[0;31m                     for func, args, kwargs in self.items]\n\u001b[0m\u001b[1;32m    264\u001b[0m \u001b[0;34m\u001b[0m\u001b[0m\n\u001b[1;32m    265\u001b[0m     \u001b[0;32mdef\u001b[0m \u001b[0m__reduce__\u001b[0m\u001b[0;34m(\u001b[0m\u001b[0mself\u001b[0m\u001b[0;34m)\u001b[0m\u001b[0;34m:\u001b[0m\u001b[0;34m\u001b[0m\u001b[0;34m\u001b[0m\u001b[0m\n",
            "\u001b[0;32m/usr/local/lib/python3.7/dist-packages/joblib/parallel.py\u001b[0m in \u001b[0;36m<listcomp>\u001b[0;34m(.0)\u001b[0m\n\u001b[1;32m    261\u001b[0m         \u001b[0;32mwith\u001b[0m \u001b[0mparallel_backend\u001b[0m\u001b[0;34m(\u001b[0m\u001b[0mself\u001b[0m\u001b[0;34m.\u001b[0m\u001b[0m_backend\u001b[0m\u001b[0;34m,\u001b[0m \u001b[0mn_jobs\u001b[0m\u001b[0;34m=\u001b[0m\u001b[0mself\u001b[0m\u001b[0;34m.\u001b[0m\u001b[0m_n_jobs\u001b[0m\u001b[0;34m)\u001b[0m\u001b[0;34m:\u001b[0m\u001b[0;34m\u001b[0m\u001b[0;34m\u001b[0m\u001b[0m\n\u001b[1;32m    262\u001b[0m             return [func(*args, **kwargs)\n\u001b[0;32m--> 263\u001b[0;31m                     for func, args, kwargs in self.items]\n\u001b[0m\u001b[1;32m    264\u001b[0m \u001b[0;34m\u001b[0m\u001b[0m\n\u001b[1;32m    265\u001b[0m     \u001b[0;32mdef\u001b[0m \u001b[0m__reduce__\u001b[0m\u001b[0;34m(\u001b[0m\u001b[0mself\u001b[0m\u001b[0;34m)\u001b[0m\u001b[0;34m:\u001b[0m\u001b[0;34m\u001b[0m\u001b[0;34m\u001b[0m\u001b[0m\n",
            "\u001b[0;32m/usr/local/lib/python3.7/dist-packages/sklearn/linear_model/_logistic.py\u001b[0m in \u001b[0;36m_logistic_regression_path\u001b[0;34m(X, y, pos_class, Cs, fit_intercept, max_iter, tol, verbose, solver, coef, class_weight, dual, penalty, intercept_scaling, multi_class, random_state, check_input, max_squared_sum, sample_weight, l1_ratio)\u001b[0m\n\u001b[1;32m    934\u001b[0m                 \u001b[0mfunc\u001b[0m\u001b[0;34m,\u001b[0m \u001b[0mw0\u001b[0m\u001b[0;34m,\u001b[0m \u001b[0mmethod\u001b[0m\u001b[0;34m=\u001b[0m\u001b[0;34m\"L-BFGS-B\"\u001b[0m\u001b[0;34m,\u001b[0m \u001b[0mjac\u001b[0m\u001b[0;34m=\u001b[0m\u001b[0;32mTrue\u001b[0m\u001b[0;34m,\u001b[0m\u001b[0;34m\u001b[0m\u001b[0;34m\u001b[0m\u001b[0m\n\u001b[1;32m    935\u001b[0m                 \u001b[0margs\u001b[0m\u001b[0;34m=\u001b[0m\u001b[0;34m(\u001b[0m\u001b[0mX\u001b[0m\u001b[0;34m,\u001b[0m \u001b[0mtarget\u001b[0m\u001b[0;34m,\u001b[0m \u001b[0;36m1.\u001b[0m \u001b[0;34m/\u001b[0m \u001b[0mC\u001b[0m\u001b[0;34m,\u001b[0m \u001b[0msample_weight\u001b[0m\u001b[0;34m)\u001b[0m\u001b[0;34m,\u001b[0m\u001b[0;34m\u001b[0m\u001b[0;34m\u001b[0m\u001b[0m\n\u001b[0;32m--> 936\u001b[0;31m                 \u001b[0moptions\u001b[0m\u001b[0;34m=\u001b[0m\u001b[0;34m{\u001b[0m\u001b[0;34m\"iprint\"\u001b[0m\u001b[0;34m:\u001b[0m \u001b[0miprint\u001b[0m\u001b[0;34m,\u001b[0m \u001b[0;34m\"gtol\"\u001b[0m\u001b[0;34m:\u001b[0m \u001b[0mtol\u001b[0m\u001b[0;34m,\u001b[0m \u001b[0;34m\"maxiter\"\u001b[0m\u001b[0;34m:\u001b[0m \u001b[0mmax_iter\u001b[0m\u001b[0;34m}\u001b[0m\u001b[0;34m\u001b[0m\u001b[0;34m\u001b[0m\u001b[0m\n\u001b[0m\u001b[1;32m    937\u001b[0m             )\n\u001b[1;32m    938\u001b[0m             n_iter_i = _check_optimize_result(\n",
            "\u001b[0;32m/usr/local/lib/python3.7/dist-packages/scipy/optimize/_minimize.py\u001b[0m in \u001b[0;36mminimize\u001b[0;34m(fun, x0, args, method, jac, hess, hessp, bounds, constraints, tol, callback, options)\u001b[0m\n\u001b[1;32m    608\u001b[0m     \u001b[0;32melif\u001b[0m \u001b[0mmeth\u001b[0m \u001b[0;34m==\u001b[0m \u001b[0;34m'l-bfgs-b'\u001b[0m\u001b[0;34m:\u001b[0m\u001b[0;34m\u001b[0m\u001b[0;34m\u001b[0m\u001b[0m\n\u001b[1;32m    609\u001b[0m         return _minimize_lbfgsb(fun, x0, args, jac, bounds,\n\u001b[0;32m--> 610\u001b[0;31m                                 callback=callback, **options)\n\u001b[0m\u001b[1;32m    611\u001b[0m     \u001b[0;32melif\u001b[0m \u001b[0mmeth\u001b[0m \u001b[0;34m==\u001b[0m \u001b[0;34m'tnc'\u001b[0m\u001b[0;34m:\u001b[0m\u001b[0;34m\u001b[0m\u001b[0;34m\u001b[0m\u001b[0m\n\u001b[1;32m    612\u001b[0m         return _minimize_tnc(fun, x0, args, jac, bounds, callback=callback,\n",
            "\u001b[0;32m/usr/local/lib/python3.7/dist-packages/scipy/optimize/lbfgsb.py\u001b[0m in \u001b[0;36m_minimize_lbfgsb\u001b[0;34m(fun, x0, args, jac, bounds, disp, maxcor, ftol, gtol, eps, maxfun, maxiter, iprint, callback, maxls, **unknown_options)\u001b[0m\n\u001b[1;32m    343\u001b[0m             \u001b[0;31m# until the completion of the current minimization iteration.\u001b[0m\u001b[0;34m\u001b[0m\u001b[0;34m\u001b[0m\u001b[0;34m\u001b[0m\u001b[0m\n\u001b[1;32m    344\u001b[0m             \u001b[0;31m# Overwrite f and g:\u001b[0m\u001b[0;34m\u001b[0m\u001b[0;34m\u001b[0m\u001b[0;34m\u001b[0m\u001b[0m\n\u001b[0;32m--> 345\u001b[0;31m             \u001b[0mf\u001b[0m\u001b[0;34m,\u001b[0m \u001b[0mg\u001b[0m \u001b[0;34m=\u001b[0m \u001b[0mfunc_and_grad\u001b[0m\u001b[0;34m(\u001b[0m\u001b[0mx\u001b[0m\u001b[0;34m)\u001b[0m\u001b[0;34m\u001b[0m\u001b[0;34m\u001b[0m\u001b[0m\n\u001b[0m\u001b[1;32m    346\u001b[0m         \u001b[0;32melif\u001b[0m \u001b[0mtask_str\u001b[0m\u001b[0;34m.\u001b[0m\u001b[0mstartswith\u001b[0m\u001b[0;34m(\u001b[0m\u001b[0;34mb'NEW_X'\u001b[0m\u001b[0;34m)\u001b[0m\u001b[0;34m:\u001b[0m\u001b[0;34m\u001b[0m\u001b[0;34m\u001b[0m\u001b[0m\n\u001b[1;32m    347\u001b[0m             \u001b[0;31m# new iteration\u001b[0m\u001b[0;34m\u001b[0m\u001b[0;34m\u001b[0m\u001b[0;34m\u001b[0m\u001b[0m\n",
            "\u001b[0;32m/usr/local/lib/python3.7/dist-packages/scipy/optimize/lbfgsb.py\u001b[0m in \u001b[0;36mfunc_and_grad\u001b[0;34m(x)\u001b[0m\n\u001b[1;32m    293\u001b[0m     \u001b[0;32melse\u001b[0m\u001b[0;34m:\u001b[0m\u001b[0;34m\u001b[0m\u001b[0;34m\u001b[0m\u001b[0m\n\u001b[1;32m    294\u001b[0m         \u001b[0;32mdef\u001b[0m \u001b[0mfunc_and_grad\u001b[0m\u001b[0;34m(\u001b[0m\u001b[0mx\u001b[0m\u001b[0;34m)\u001b[0m\u001b[0;34m:\u001b[0m\u001b[0;34m\u001b[0m\u001b[0;34m\u001b[0m\u001b[0m\n\u001b[0;32m--> 295\u001b[0;31m             \u001b[0mf\u001b[0m \u001b[0;34m=\u001b[0m \u001b[0mfun\u001b[0m\u001b[0;34m(\u001b[0m\u001b[0mx\u001b[0m\u001b[0;34m,\u001b[0m \u001b[0;34m*\u001b[0m\u001b[0margs\u001b[0m\u001b[0;34m)\u001b[0m\u001b[0;34m\u001b[0m\u001b[0;34m\u001b[0m\u001b[0m\n\u001b[0m\u001b[1;32m    296\u001b[0m             \u001b[0mg\u001b[0m \u001b[0;34m=\u001b[0m \u001b[0mjac\u001b[0m\u001b[0;34m(\u001b[0m\u001b[0mx\u001b[0m\u001b[0;34m,\u001b[0m \u001b[0;34m*\u001b[0m\u001b[0margs\u001b[0m\u001b[0;34m)\u001b[0m\u001b[0;34m\u001b[0m\u001b[0;34m\u001b[0m\u001b[0m\n\u001b[1;32m    297\u001b[0m             \u001b[0;32mreturn\u001b[0m \u001b[0mf\u001b[0m\u001b[0;34m,\u001b[0m \u001b[0mg\u001b[0m\u001b[0;34m\u001b[0m\u001b[0;34m\u001b[0m\u001b[0m\n",
            "\u001b[0;32m/usr/local/lib/python3.7/dist-packages/scipy/optimize/optimize.py\u001b[0m in \u001b[0;36mfunction_wrapper\u001b[0;34m(*wrapper_args)\u001b[0m\n\u001b[1;32m    325\u001b[0m     \u001b[0;32mdef\u001b[0m \u001b[0mfunction_wrapper\u001b[0m\u001b[0;34m(\u001b[0m\u001b[0;34m*\u001b[0m\u001b[0mwrapper_args\u001b[0m\u001b[0;34m)\u001b[0m\u001b[0;34m:\u001b[0m\u001b[0;34m\u001b[0m\u001b[0;34m\u001b[0m\u001b[0m\n\u001b[1;32m    326\u001b[0m         \u001b[0mncalls\u001b[0m\u001b[0;34m[\u001b[0m\u001b[0;36m0\u001b[0m\u001b[0;34m]\u001b[0m \u001b[0;34m+=\u001b[0m \u001b[0;36m1\u001b[0m\u001b[0;34m\u001b[0m\u001b[0;34m\u001b[0m\u001b[0m\n\u001b[0;32m--> 327\u001b[0;31m         \u001b[0;32mreturn\u001b[0m \u001b[0mfunction\u001b[0m\u001b[0;34m(\u001b[0m\u001b[0;34m*\u001b[0m\u001b[0;34m(\u001b[0m\u001b[0mwrapper_args\u001b[0m \u001b[0;34m+\u001b[0m \u001b[0margs\u001b[0m\u001b[0;34m)\u001b[0m\u001b[0;34m)\u001b[0m\u001b[0;34m\u001b[0m\u001b[0;34m\u001b[0m\u001b[0m\n\u001b[0m\u001b[1;32m    328\u001b[0m \u001b[0;34m\u001b[0m\u001b[0m\n\u001b[1;32m    329\u001b[0m     \u001b[0;32mreturn\u001b[0m \u001b[0mncalls\u001b[0m\u001b[0;34m,\u001b[0m \u001b[0mfunction_wrapper\u001b[0m\u001b[0;34m\u001b[0m\u001b[0;34m\u001b[0m\u001b[0m\n",
            "\u001b[0;32m/usr/local/lib/python3.7/dist-packages/scipy/optimize/optimize.py\u001b[0m in \u001b[0;36m__call__\u001b[0;34m(self, x, *args)\u001b[0m\n\u001b[1;32m     63\u001b[0m     \u001b[0;32mdef\u001b[0m \u001b[0m__call__\u001b[0m\u001b[0;34m(\u001b[0m\u001b[0mself\u001b[0m\u001b[0;34m,\u001b[0m \u001b[0mx\u001b[0m\u001b[0;34m,\u001b[0m \u001b[0;34m*\u001b[0m\u001b[0margs\u001b[0m\u001b[0;34m)\u001b[0m\u001b[0;34m:\u001b[0m\u001b[0;34m\u001b[0m\u001b[0;34m\u001b[0m\u001b[0m\n\u001b[1;32m     64\u001b[0m         \u001b[0mself\u001b[0m\u001b[0;34m.\u001b[0m\u001b[0mx\u001b[0m \u001b[0;34m=\u001b[0m \u001b[0mnumpy\u001b[0m\u001b[0;34m.\u001b[0m\u001b[0masarray\u001b[0m\u001b[0;34m(\u001b[0m\u001b[0mx\u001b[0m\u001b[0;34m)\u001b[0m\u001b[0;34m.\u001b[0m\u001b[0mcopy\u001b[0m\u001b[0;34m(\u001b[0m\u001b[0;34m)\u001b[0m\u001b[0;34m\u001b[0m\u001b[0;34m\u001b[0m\u001b[0m\n\u001b[0;32m---> 65\u001b[0;31m         \u001b[0mfg\u001b[0m \u001b[0;34m=\u001b[0m \u001b[0mself\u001b[0m\u001b[0;34m.\u001b[0m\u001b[0mfun\u001b[0m\u001b[0;34m(\u001b[0m\u001b[0mx\u001b[0m\u001b[0;34m,\u001b[0m \u001b[0;34m*\u001b[0m\u001b[0margs\u001b[0m\u001b[0;34m)\u001b[0m\u001b[0;34m\u001b[0m\u001b[0;34m\u001b[0m\u001b[0m\n\u001b[0m\u001b[1;32m     66\u001b[0m         \u001b[0mself\u001b[0m\u001b[0;34m.\u001b[0m\u001b[0mjac\u001b[0m \u001b[0;34m=\u001b[0m \u001b[0mfg\u001b[0m\u001b[0;34m[\u001b[0m\u001b[0;36m1\u001b[0m\u001b[0;34m]\u001b[0m\u001b[0;34m\u001b[0m\u001b[0;34m\u001b[0m\u001b[0m\n\u001b[1;32m     67\u001b[0m         \u001b[0;32mreturn\u001b[0m \u001b[0mfg\u001b[0m\u001b[0;34m[\u001b[0m\u001b[0;36m0\u001b[0m\u001b[0;34m]\u001b[0m\u001b[0;34m\u001b[0m\u001b[0;34m\u001b[0m\u001b[0m\n",
            "\u001b[0;32m/usr/local/lib/python3.7/dist-packages/sklearn/linear_model/_logistic.py\u001b[0m in \u001b[0;36m<lambda>\u001b[0;34m(x, *args)\u001b[0m\n\u001b[1;32m    909\u001b[0m         \u001b[0mtarget\u001b[0m \u001b[0;34m=\u001b[0m \u001b[0mY_multi\u001b[0m\u001b[0;34m\u001b[0m\u001b[0;34m\u001b[0m\u001b[0m\n\u001b[1;32m    910\u001b[0m         \u001b[0;32mif\u001b[0m \u001b[0msolver\u001b[0m \u001b[0;34m==\u001b[0m \u001b[0;34m'lbfgs'\u001b[0m\u001b[0;34m:\u001b[0m\u001b[0;34m\u001b[0m\u001b[0;34m\u001b[0m\u001b[0m\n\u001b[0;32m--> 911\u001b[0;31m             \u001b[0mfunc\u001b[0m \u001b[0;34m=\u001b[0m \u001b[0;32mlambda\u001b[0m \u001b[0mx\u001b[0m\u001b[0;34m,\u001b[0m \u001b[0;34m*\u001b[0m\u001b[0margs\u001b[0m\u001b[0;34m:\u001b[0m \u001b[0m_multinomial_loss_grad\u001b[0m\u001b[0;34m(\u001b[0m\u001b[0mx\u001b[0m\u001b[0;34m,\u001b[0m \u001b[0;34m*\u001b[0m\u001b[0margs\u001b[0m\u001b[0;34m)\u001b[0m\u001b[0;34m[\u001b[0m\u001b[0;36m0\u001b[0m\u001b[0;34m:\u001b[0m\u001b[0;36m2\u001b[0m\u001b[0;34m]\u001b[0m\u001b[0;34m\u001b[0m\u001b[0;34m\u001b[0m\u001b[0m\n\u001b[0m\u001b[1;32m    912\u001b[0m         \u001b[0;32melif\u001b[0m \u001b[0msolver\u001b[0m \u001b[0;34m==\u001b[0m \u001b[0;34m'newton-cg'\u001b[0m\u001b[0;34m:\u001b[0m\u001b[0;34m\u001b[0m\u001b[0;34m\u001b[0m\u001b[0m\n\u001b[1;32m    913\u001b[0m             \u001b[0mfunc\u001b[0m \u001b[0;34m=\u001b[0m \u001b[0;32mlambda\u001b[0m \u001b[0mx\u001b[0m\u001b[0;34m,\u001b[0m \u001b[0;34m*\u001b[0m\u001b[0margs\u001b[0m\u001b[0;34m:\u001b[0m \u001b[0m_multinomial_loss\u001b[0m\u001b[0;34m(\u001b[0m\u001b[0mx\u001b[0m\u001b[0;34m,\u001b[0m \u001b[0;34m*\u001b[0m\u001b[0margs\u001b[0m\u001b[0;34m)\u001b[0m\u001b[0;34m[\u001b[0m\u001b[0;36m0\u001b[0m\u001b[0;34m]\u001b[0m\u001b[0;34m\u001b[0m\u001b[0;34m\u001b[0m\u001b[0m\n",
            "\u001b[0;32m/usr/local/lib/python3.7/dist-packages/sklearn/linear_model/_logistic.py\u001b[0m in \u001b[0;36m_multinomial_loss_grad\u001b[0;34m(w, X, Y, alpha, sample_weight)\u001b[0m\n\u001b[1;32m    347\u001b[0m     grad = np.zeros((n_classes, n_features + bool(fit_intercept)),\n\u001b[1;32m    348\u001b[0m                     dtype=X.dtype)\n\u001b[0;32m--> 349\u001b[0;31m     \u001b[0mloss\u001b[0m\u001b[0;34m,\u001b[0m \u001b[0mp\u001b[0m\u001b[0;34m,\u001b[0m \u001b[0mw\u001b[0m \u001b[0;34m=\u001b[0m \u001b[0m_multinomial_loss\u001b[0m\u001b[0;34m(\u001b[0m\u001b[0mw\u001b[0m\u001b[0;34m,\u001b[0m \u001b[0mX\u001b[0m\u001b[0;34m,\u001b[0m \u001b[0mY\u001b[0m\u001b[0;34m,\u001b[0m \u001b[0malpha\u001b[0m\u001b[0;34m,\u001b[0m \u001b[0msample_weight\u001b[0m\u001b[0;34m)\u001b[0m\u001b[0;34m\u001b[0m\u001b[0;34m\u001b[0m\u001b[0m\n\u001b[0m\u001b[1;32m    350\u001b[0m     \u001b[0msample_weight\u001b[0m \u001b[0;34m=\u001b[0m \u001b[0msample_weight\u001b[0m\u001b[0;34m[\u001b[0m\u001b[0;34m:\u001b[0m\u001b[0;34m,\u001b[0m \u001b[0mnp\u001b[0m\u001b[0;34m.\u001b[0m\u001b[0mnewaxis\u001b[0m\u001b[0;34m]\u001b[0m\u001b[0;34m\u001b[0m\u001b[0;34m\u001b[0m\u001b[0m\n\u001b[1;32m    351\u001b[0m     \u001b[0mdiff\u001b[0m \u001b[0;34m=\u001b[0m \u001b[0msample_weight\u001b[0m \u001b[0;34m*\u001b[0m \u001b[0;34m(\u001b[0m\u001b[0mp\u001b[0m \u001b[0;34m-\u001b[0m \u001b[0mY\u001b[0m\u001b[0;34m)\u001b[0m\u001b[0;34m\u001b[0m\u001b[0;34m\u001b[0m\u001b[0m\n",
            "\u001b[0;32m/usr/local/lib/python3.7/dist-packages/sklearn/linear_model/_logistic.py\u001b[0m in \u001b[0;36m_multinomial_loss\u001b[0;34m(w, X, Y, alpha, sample_weight)\u001b[0m\n\u001b[1;32m    297\u001b[0m     \u001b[0mp\u001b[0m \u001b[0;34m=\u001b[0m \u001b[0msafe_sparse_dot\u001b[0m\u001b[0;34m(\u001b[0m\u001b[0mX\u001b[0m\u001b[0;34m,\u001b[0m \u001b[0mw\u001b[0m\u001b[0;34m.\u001b[0m\u001b[0mT\u001b[0m\u001b[0;34m)\u001b[0m\u001b[0;34m\u001b[0m\u001b[0;34m\u001b[0m\u001b[0m\n\u001b[1;32m    298\u001b[0m     \u001b[0mp\u001b[0m \u001b[0;34m+=\u001b[0m \u001b[0mintercept\u001b[0m\u001b[0;34m\u001b[0m\u001b[0;34m\u001b[0m\u001b[0m\n\u001b[0;32m--> 299\u001b[0;31m     \u001b[0mp\u001b[0m \u001b[0;34m-=\u001b[0m \u001b[0mlogsumexp\u001b[0m\u001b[0;34m(\u001b[0m\u001b[0mp\u001b[0m\u001b[0;34m,\u001b[0m \u001b[0maxis\u001b[0m\u001b[0;34m=\u001b[0m\u001b[0;36m1\u001b[0m\u001b[0;34m)\u001b[0m\u001b[0;34m[\u001b[0m\u001b[0;34m:\u001b[0m\u001b[0;34m,\u001b[0m \u001b[0mnp\u001b[0m\u001b[0;34m.\u001b[0m\u001b[0mnewaxis\u001b[0m\u001b[0;34m]\u001b[0m\u001b[0;34m\u001b[0m\u001b[0;34m\u001b[0m\u001b[0m\n\u001b[0m\u001b[1;32m    300\u001b[0m     \u001b[0mloss\u001b[0m \u001b[0;34m=\u001b[0m \u001b[0;34m-\u001b[0m\u001b[0;34m(\u001b[0m\u001b[0msample_weight\u001b[0m \u001b[0;34m*\u001b[0m \u001b[0mY\u001b[0m \u001b[0;34m*\u001b[0m \u001b[0mp\u001b[0m\u001b[0;34m)\u001b[0m\u001b[0;34m.\u001b[0m\u001b[0msum\u001b[0m\u001b[0;34m(\u001b[0m\u001b[0;34m)\u001b[0m\u001b[0;34m\u001b[0m\u001b[0;34m\u001b[0m\u001b[0m\n\u001b[1;32m    301\u001b[0m     \u001b[0mloss\u001b[0m \u001b[0;34m+=\u001b[0m \u001b[0;36m0.5\u001b[0m \u001b[0;34m*\u001b[0m \u001b[0malpha\u001b[0m \u001b[0;34m*\u001b[0m \u001b[0msquared_norm\u001b[0m\u001b[0;34m(\u001b[0m\u001b[0mw\u001b[0m\u001b[0;34m)\u001b[0m\u001b[0;34m\u001b[0m\u001b[0;34m\u001b[0m\u001b[0m\n",
            "\u001b[0;32m/usr/local/lib/python3.7/dist-packages/scipy/special/_logsumexp.py\u001b[0m in \u001b[0;36mlogsumexp\u001b[0;34m(a, axis, b, keepdims, return_sign)\u001b[0m\n\u001b[1;32m    110\u001b[0m         \u001b[0mtmp\u001b[0m \u001b[0;34m=\u001b[0m \u001b[0mb\u001b[0m \u001b[0;34m*\u001b[0m \u001b[0mnp\u001b[0m\u001b[0;34m.\u001b[0m\u001b[0mexp\u001b[0m\u001b[0;34m(\u001b[0m\u001b[0ma\u001b[0m \u001b[0;34m-\u001b[0m \u001b[0ma_max\u001b[0m\u001b[0;34m)\u001b[0m\u001b[0;34m\u001b[0m\u001b[0;34m\u001b[0m\u001b[0m\n\u001b[1;32m    111\u001b[0m     \u001b[0;32melse\u001b[0m\u001b[0;34m:\u001b[0m\u001b[0;34m\u001b[0m\u001b[0;34m\u001b[0m\u001b[0m\n\u001b[0;32m--> 112\u001b[0;31m         \u001b[0mtmp\u001b[0m \u001b[0;34m=\u001b[0m \u001b[0mnp\u001b[0m\u001b[0;34m.\u001b[0m\u001b[0mexp\u001b[0m\u001b[0;34m(\u001b[0m\u001b[0ma\u001b[0m \u001b[0;34m-\u001b[0m \u001b[0ma_max\u001b[0m\u001b[0;34m)\u001b[0m\u001b[0;34m\u001b[0m\u001b[0;34m\u001b[0m\u001b[0m\n\u001b[0m\u001b[1;32m    113\u001b[0m \u001b[0;34m\u001b[0m\u001b[0m\n\u001b[1;32m    114\u001b[0m     \u001b[0;31m# suppress warnings about log of zero\u001b[0m\u001b[0;34m\u001b[0m\u001b[0;34m\u001b[0m\u001b[0;34m\u001b[0m\u001b[0m\n",
            "\u001b[0;31mKeyboardInterrupt\u001b[0m: "
          ]
        }
      ]
    },
    {
      "cell_type": "markdown",
      "metadata": {
        "id": "ddvbaiECmyt6"
      },
      "source": [
        "### KNN Algorithm"
      ]
    },
    {
      "cell_type": "code",
      "metadata": {
        "colab": {
          "base_uri": "https://localhost:8080/",
          "height": 784
        },
        "id": "dlpKQjfmmkPn",
        "outputId": "699f2bb8-7ae5-4f58-8d1e-4634ee203c6d"
      },
      "source": [
        "from sklearn.neighbors import KNeighborsClassifier\n",
        "knn_model = KNeighborsClassifier(n_neighbors=5, metric='minkowski', p=2)\n",
        "knn_model.fit(scaled_X_train, y_train)\n",
        "knn_y_pred = knn_model.predict(scaled_X_val)\n",
        "\n",
        "print(evaluate_model(y_val, knn_y_pred))\n",
        "plot_confusion_matrix(y_val, knn_y_pred, label)\n",
        "print(classification_report(y_val, knn_y_pred))"
      ],
      "execution_count": null,
      "outputs": [
        {
          "name": "stdout",
          "output_type": "stream",
          "text": [
            "{'accuracy_score': 0.9983469830805649, 'precision_score': 0.968663808042153, 'recall_score': 0.8728626747216783, 'f1_score': 0.9073157836050112}\n",
            "              precision    recall  f1-score   support\n",
            "\n",
            "           0       1.00      1.00      1.00    481656\n",
            "           1       1.00      1.00      1.00    412565\n",
            "           2       0.88      0.50      0.63       119\n",
            "           3       1.00      1.00      1.00     22771\n",
            "\n",
            "    accuracy                           1.00    917111\n",
            "   macro avg       0.97      0.87      0.91    917111\n",
            "weighted avg       1.00      1.00      1.00    917111\n",
            "\n"
          ]
        },
        {
          "data": {
            "image/png": "[encoded data removed]",
            "text/plain": [
              "<Figure size 720x720 with 2 Axes>"
            ]
          },
          "metadata": {},
          "output_type": "display_data"
        }
      ]
    },
    {
      "cell_type": "markdown",
      "metadata": {
        "id": "miBrWQz4pi-q"
      },
      "source": [
        "### Support Vector Machine"
      ]
    },
    {
      "cell_type": "code",
      "metadata": {
        "id": "j9Gp3aFipglg"
      },
      "source": [
        "from sklearn import svm\n",
        "svm_model = svm.SVC(kernel='rbf')\n",
        "svm_model.fit(scaled_X_train, y_train)\n",
        "y_pred_svm = svm_model.predict(scaled_X_val)\n",
        "\n",
        "print(evaluate_model(y_val, y_pred_svm))\n",
        "print(classification_report(y_val, y_pred_svm))\n",
        "plot_confusion_matrix(y_val, y_pred_svm, label)"
      ],
      "execution_count": null,
      "outputs": []
    },
    {
      "cell_type": "markdown",
      "metadata": {
        "id": "vVOY90PsADf6"
      },
      "source": [
        "### Decision Tree Classifier"
      ]
    },
    {
      "cell_type": "code",
      "metadata": {
        "colab": {
          "base_uri": "https://localhost:8080/",
          "height": 784
        },
        "id": "z2lDgxtCL-xs",
        "outputId": "c1f48090-b978-4102-8f19-7bd1e2f16afb"
      },
      "source": [
        "from sklearn.tree import DecisionTreeClassifier\n",
        "\n",
        "decision_tree_model = DecisionTreeClassifier(criterion=\"entropy\")\n",
        "decision_tree_model.fit(scaled_X_train, y_train)\n",
        "decision_tree_y_pred = decision_tree_model.predict(scaled_X_val)\n",
        "\n",
        "print(evaluate_model(y_val, decision_tree_y_pred))\n",
        "print(classification_report(y_val, decision_tree_y_pred))\n",
        "plot_confusion_matrix(y_val, decision_tree_y_pred, label)"
      ],
      "execution_count": null,
      "outputs": [
        {
          "name": "stdout",
          "output_type": "stream",
          "text": [
            "{'accuracy_score': 0.9999716501056034, 'precision_score': 0.9999716041850358, 'recall_score': 0.9999716501056034, 'f1_score': 0.9999716249292179}\n",
            "              precision    recall  f1-score   support\n",
            "\n",
            "           0       1.00      1.00      1.00    481656\n",
            "           1       1.00      1.00      1.00    412565\n",
            "           2       0.96      0.95      0.95       119\n",
            "           3       1.00      1.00      1.00     22771\n",
            "\n",
            "    accuracy                           1.00    917111\n",
            "   macro avg       0.99      0.99      0.99    917111\n",
            "weighted avg       1.00      1.00      1.00    917111\n",
            "\n"
          ]
        },
        {
          "data": {
            "image/png": "[encoded data removed]",
            "text/plain": [
              "<Figure size 720x720 with 2 Axes>"
            ]
          },
          "metadata": {},
          "output_type": "display_data"
        }
      ]
    },
    {
      "cell_type": "markdown",
      "metadata": {
        "id": "hXeWC7ZRAqzo"
      },
      "source": [
        "### Random Forest Classifier"
      ]
    },
    {
      "cell_type": "code",
      "metadata": {
        "colab": {
          "base_uri": "https://localhost:8080/",
          "height": 784
        },
        "id": "Q5RqYClOAqO5",
        "outputId": "a1a7a7dc-ed8c-428d-8123-5b01abbbbf83"
      },
      "source": [
        "from sklearn.ensemble import RandomForestClassifier\n",
        "\n",
        "random_forest_model = RandomForestClassifier(n_estimators=200,\n",
        "                                             criterion=\"entropy\")\n",
        "random_forest_model.fit(scaled_X_train, y_train)\n",
        "random_forest_y_pred = random_forest_model.predict(scaled_X_val)\n",
        "\n",
        "print(evaluate_model(y_val, random_forest_y_pred))\n",
        "print(classification_report(y_val, random_forest_y_pred))\n",
        "plot_confusion_matrix(y_val, random_forest_y_pred, label)"
      ],
      "execution_count": null,
      "outputs": [
        {
          "name": "stdout",
          "output_type": "stream",
          "text": [
            "{'accuracy_score': 0.9999825539111405, 'precision_score': 0.9999825810748809, 'recall_score': 0.9999825539111405, 'f1_score': 0.9999825652569376}\n",
            "              precision    recall  f1-score   support\n",
            "\n",
            "           0       1.00      1.00      1.00    481656\n",
            "           1       1.00      1.00      1.00    412565\n",
            "           2       0.97      0.98      0.98       119\n",
            "           3       1.00      1.00      1.00     22771\n",
            "\n",
            "    accuracy                           1.00    917111\n",
            "   macro avg       0.99      1.00      0.99    917111\n",
            "weighted avg       1.00      1.00      1.00    917111\n",
            "\n"
          ]
        },
        {
          "data": {
            "image/png": "[encoded data removed]",
            "text/plain": [
              "<Figure size 720x720 with 2 Axes>"
            ]
          },
          "metadata": {},
          "output_type": "display_data"
        }
      ]
    },
    {
      "cell_type": "markdown",
      "metadata": {
        "id": "3l2gTVzN6NQM"
      },
      "source": [
        "### Naive Bayes"
      ]
    },
    {
      "cell_type": "code",
      "metadata": {
        "colab": {
          "base_uri": "https://localhost:8080/",
          "height": 804
        },
        "id": "gDbMPzIp6Nvk",
        "outputId": "f366d3e7-2d74-4d79-e0cf-37e37bc0ed9c"
      },
      "source": [
        "from sklearn.naive_bayes import GaussianNB\n",
        "naive_bayes_model = GaussianNB()\n",
        "naive_bayes_model.fit(scaled_X_train, y_train)\n",
        "y_pred_nb = naive_bayes_model.predict(scaled_X_val)\n",
        "\n",
        "print(evaluate_model(y_val, y_pred_nb))\n",
        "print(classification_report(y_val, y_pred_nb))\n",
        "plot_confusion_matrix(y_val, y_pred_nb, label)"
      ],
      "execution_count": null,
      "outputs": [
        {
          "name": "stdout",
          "output_type": "stream",
          "text": [
            "{'accuracy_score': 0.7011081537567426, 'precision_score': 0.7757951667065448, 'recall_score': 0.7011081537567426, 'f1_score': 0.6674072844788567}\n",
            "              precision    recall  f1-score   support\n",
            "\n",
            "           0       0.65      0.98      0.78    481656\n",
            "           1       0.93      0.40      0.56    412565\n",
            "           2       0.18      0.13      0.15       119\n",
            "           3       0.82      0.13      0.23     22771\n",
            "\n",
            "    accuracy                           0.70    917111\n",
            "   macro avg       0.64      0.41      0.43    917111\n",
            "weighted avg       0.78      0.70      0.67    917111\n",
            "\n"
          ]
        },
        {
          "data": {
            "image/png": "[encoded data removed]",
            "text/plain": [
              "<Figure size 720x720 with 2 Axes>"
            ]
          },
          "metadata": {},
          "output_type": "display_data"
        }
      ]
    },
    {
      "cell_type": "markdown",
      "metadata": {
        "id": "IDdyg9rG1Pmd"
      },
      "source": [
        "### XGBOOST"
      ]
    },
    {
      "cell_type": "code",
      "metadata": {
        "colab": {
          "base_uri": "https://localhost:8080/",
          "height": 472
        },
        "id": "GdC4r06S1Vpb",
        "outputId": "ea8ba652-add5-4414-bf28-abce497cc890"
      },
      "source": [
        "from xgboost import XGBClassifier\n",
        "\n",
        "xgboost_model = XGBClassifier()\n",
        "xgboost_model.fit(scaled_X_train, y_train)\n",
        "y_pred_xgb = xgboost_model.predict(scaled_X_val)\n",
        "\n",
        "print(evaluate_model(y_val, y_pred_xgb))\n",
        "print(classification_report(y_val, y_pred_xgb))\n",
        "plot_confusion_matrix(y_val, y_pred_xgb, label)"
      ],
      "execution_count": null,
      "outputs": [
        {
          "name": "stdout",
          "output_type": "stream",
          "text": [
            "{'accuracy_score': 0.9988714561269029, 'precision_score': 0.9758331020251063, 'recall_score': 0.9526677699974041, 'f1_score': 0.9636434416147748}\n",
            "              precision    recall  f1-score   support\n",
            "\n",
            "           0       1.00      1.00      1.00    481656\n",
            "           1       1.00      1.00      1.00    412565\n",
            "           2       0.91      0.82      0.86       119\n",
            "           3       1.00      1.00      1.00     22771\n",
            "\n",
            "    accuracy                           1.00    917111\n",
            "   macro avg       0.98      0.95      0.96    917111\n",
            "weighted avg       1.00      1.00      1.00    917111\n",
            "\n"
          ]
        },
        {
          "data": {
            "image/png": "[encoded data removed]",
            "text/plain": [
              "<Figure size 720x720 with 2 Axes>"
            ]
          },
          "metadata": {},
          "output_type": "display_data"
        }
      ]
    },
    {
      "cell_type": "markdown",
      "metadata": {
        "id": "_hjEAktDav8L"
      },
      "source": [
        "### Artificial Neural Network"
      ]
    },
    {
      "cell_type": "code",
      "metadata": {
        "colab": {
          "base_uri": "https://localhost:8080/"
        },
        "id": "yM6AOeSr2K0J",
        "outputId": "ea73ad97-8a3e-4e07-f317-af5ec75e51c9"
      },
      "source": [
        "\n",
        "from keras.utils import np_utils\n",
        "\n",
        "encoded_y_train = np_utils.to_categorical(y_train)\n",
        "encoded_y_val = np_utils.to_categorical(y_val)\n",
        "encoded_y_train"
      ],
      "execution_count": null,
      "outputs": [
        {
          "output_type": "execute_result",
          "data": {
            "text/plain": [
              "array([[1., 0., 0., 0.],\n",
              "       [1., 0., 0., 0.],\n",
              "       [0., 1., 0., 0.],\n",
              "       ...,\n",
              "       [1., 0., 0., 0.],\n",
              "       [1., 0., 0., 0.],\n",
              "       [0., 1., 0., 0.]], dtype=float32)"
            ]
          },
          "metadata": {},
          "execution_count": 10
        }
      ]
    },
    {
      "cell_type": "markdown",
      "metadata": {
        "id": "41FTp56n_51w"
      },
      "source": [
        "the input layer/first layer is the number of features in the dataset which is 18, second layer is 12, third is 8 and output is 4"
      ]
    },
    {
      "cell_type": "code",
      "metadata": {
        "colab": {
          "base_uri": "https://localhost:8080/"
        },
        "id": "dvv6-OxZQClI",
        "outputId": "67e4c9bf-7dca-4422-a72d-4d78f6c0fc46"
      },
      "source": [
        "import tensorflow as tf\n",
        "print(tf.__version__)\n",
        "\n",
        "\n",
        "\n",
        "ann_model = tf.keras.models.Sequential()\n",
        "ann_model.add(tf.keras.layers.Dense(units=12, activation='relu'))\n",
        "ann_model.add(tf.keras.layers.Dense(units=8, activation='relu'))\n",
        "ann_model.add(tf.keras.layers.Dense(units=4, activation='softmax'))\n",
        "\n",
        "ann_model.compile(optimizer = 'adam', loss = 'categorical_crossentropy', metrics = ['accuracy', tf.keras.metrics.Precision(), tf.keras.metrics.Recall()])\n",
        "history = ann_model.fit(scaled_X_train, encoded_y_train, validation_split=0.25, batch_size=32, epochs=15)"
      ],
      "execution_count": null,
      "outputs": [
        {
          "output_type": "stream",
          "name": "stdout",
          "text": [
            "2.6.0\n",
            "Epoch 1/15\n",
            "64485/64485 [==============================] - 152s 2ms/step - loss: 0.0424 - accuracy: 0.9900 - precision: 0.9910 - recall: 0.9887 - val_loss: 0.0191 - val_accuracy: 0.9952 - val_precision: 0.9952 - val_recall: 0.9952\n",
            "Epoch 2/15\n",
            "64485/64485 [==============================] - 130s 2ms/step - loss: 0.0165 - accuracy: 0.9955 - precision: 0.9955 - recall: 0.9954 - val_loss: 0.0151 - val_accuracy: 0.9962 - val_precision: 0.9962 - val_recall: 0.9962\n",
            "Epoch 3/15\n",
            "64485/64485 [==============================] - 169s 3ms/step - loss: 0.0150 - accuracy: 0.9965 - precision: 0.9965 - recall: 0.9965 - val_loss: 0.0170 - val_accuracy: 0.9958 - val_precision: 0.9958 - val_recall: 0.9958\n",
            "Epoch 4/15\n",
            "64485/64485 [==============================] - 129s 2ms/step - loss: 0.0141 - accuracy: 0.9972 - precision: 0.9972 - recall: 0.9972 - val_loss: 0.0159 - val_accuracy: 0.9967 - val_precision: 0.9967 - val_recall: 0.9967\n",
            "Epoch 5/15\n",
            "64485/64485 [==============================] - 150s 2ms/step - loss: 0.0131 - accuracy: 0.9975 - precision: 0.9975 - recall: 0.9975 - val_loss: 0.0140 - val_accuracy: 0.9979 - val_precision: 0.9979 - val_recall: 0.9979\n",
            "Epoch 6/15\n",
            "64485/64485 [==============================] - 132s 2ms/step - loss: 0.0116 - accuracy: 0.9977 - precision: 0.9977 - recall: 0.9977 - val_loss: 0.0121 - val_accuracy: 0.9981 - val_precision: 0.9981 - val_recall: 0.9981\n",
            "Epoch 7/15\n",
            "64485/64485 [==============================] - 156s 2ms/step - loss: 0.0129 - accuracy: 0.9979 - precision: 0.9979 - recall: 0.9979 - val_loss: 0.0129 - val_accuracy: 0.9975 - val_precision: 0.9975 - val_recall: 0.9975\n",
            "Epoch 8/15\n",
            "64485/64485 [==============================] - 130s 2ms/step - loss: 0.0103 - accuracy: 0.9981 - precision: 0.9981 - recall: 0.9980 - val_loss: 0.0130 - val_accuracy: 0.9982 - val_precision: 0.9982 - val_recall: 0.9981\n",
            "Epoch 9/15\n",
            "64485/64485 [==============================] - 148s 2ms/step - loss: 0.0126 - accuracy: 0.9981 - precision: 0.9981 - recall: 0.9981 - val_loss: 0.0112 - val_accuracy: 0.9986 - val_precision: 0.9986 - val_recall: 0.9985\n",
            "Epoch 10/15\n",
            "64485/64485 [==============================] - 141s 2ms/step - loss: 0.0123 - accuracy: 0.9982 - precision: 0.9982 - recall: 0.9982 - val_loss: 0.0115 - val_accuracy: 0.9987 - val_precision: 0.9987 - val_recall: 0.9987\n",
            "Epoch 11/15\n",
            "64485/64485 [==============================] - 120s 2ms/step - loss: 0.0111 - accuracy: 0.9983 - precision: 0.9983 - recall: 0.9983 - val_loss: 0.0139 - val_accuracy: 0.9986 - val_precision: 0.9986 - val_recall: 0.9986\n",
            "Epoch 12/15\n",
            "64485/64485 [==============================] - 140s 2ms/step - loss: 0.0114 - accuracy: 0.9984 - precision: 0.9984 - recall: 0.9984 - val_loss: 0.0165 - val_accuracy: 0.9985 - val_precision: 0.9986 - val_recall: 0.9985\n",
            "Epoch 13/15\n",
            "64485/64485 [==============================] - 140s 2ms/step - loss: 0.0100 - accuracy: 0.9984 - precision: 0.9984 - recall: 0.9984 - val_loss: 0.0144 - val_accuracy: 0.9985 - val_precision: 0.9985 - val_recall: 0.9984\n",
            "Epoch 14/15\n",
            "64485/64485 [==============================] - 121s 2ms/step - loss: 0.0143 - accuracy: 0.9985 - precision: 0.9985 - recall: 0.9985 - val_loss: 0.0160 - val_accuracy: 0.9989 - val_precision: 0.9989 - val_recall: 0.9989\n",
            "Epoch 15/15\n",
            "64485/64485 [==============================] - 121s 2ms/step - loss: 0.0112 - accuracy: 0.9985 - precision: 0.9985 - recall: 0.9985 - val_loss: 0.0224 - val_accuracy: 0.9987 - val_precision: 0.9987 - val_recall: 0.9987\n"
          ]
        }
      ]
    },
    {
      "cell_type": "code",
      "metadata": {
        "colab": {
          "base_uri": "https://localhost:8080/"
        },
        "id": "27wFeBW6Rf2e",
        "outputId": "33294a35-f79e-4118-c4d3-bf1a4c1a2616"
      },
      "source": [
        "ann_y_pred = ann_model.predict(scaled_X_val)\n",
        "ann_y_pred = (ann_y_pred > 0.5)\n",
        "ann_y_pred"
      ],
      "execution_count": null,
      "outputs": [
        {
          "output_type": "execute_result",
          "data": {
            "text/plain": [
              "array([[False,  True, False, False],\n",
              "       [False,  True, False, False],\n",
              "       [False,  True, False, False],\n",
              "       ...,\n",
              "       [ True, False, False, False],\n",
              "       [ True, False, False, False],\n",
              "       [ True, False, False, False]])"
            ]
          },
          "metadata": {},
          "execution_count": 12
        }
      ]
    },
    {
      "cell_type": "code",
      "metadata": {
        "colab": {
          "base_uri": "https://localhost:8080/"
        },
        "id": "6hdObG1cfUUI",
        "outputId": "4715a1ba-839f-41ec-dc0c-812035a46eaf"
      },
      "source": [
        "\n",
        "# Check the test accuracy, precision, and recall\n",
        "_, accuracy, precision, recall = ann_model.evaluate(scaled_X_val, encoded_y_val)\n",
        "print('Accuracy: %.2f' % (accuracy*100))"
      ],
      "execution_count": null,
      "outputs": [
        {
          "output_type": "stream",
          "name": "stdout",
          "text": [
            "28660/28660 [==============================] - 37s 1ms/step - loss: 0.0144 - accuracy: 0.9988 - precision: 0.9988 - recall: 0.9988\n",
            "Accuracy: 99.88\n"
          ]
        }
      ]
    },
    {
      "cell_type": "code",
      "metadata": {
        "id": "e9eU18hRiWJt"
      },
      "source": [
        "# Performance Evaluations\n",
        "# print(history.history.keys())"
      ],
      "execution_count": null,
      "outputs": []
    },
    {
      "cell_type": "code",
      "metadata": {
        "colab": {
          "base_uri": "https://localhost:8080/",
          "height": 314
        },
        "id": "xzd6YOuvjegy",
        "outputId": "93c98d08-024e-44a7-9f75-430d3dabf941"
      },
      "source": [
        "# Plot graph between training and validation loss\n",
        "plt.plot(history.history['loss'])\n",
        "plt.plot(history.history['val_loss'])\n",
        "plt.legend(['Training', 'Validation'])\n",
        "plt.title('Loss')\n",
        "plt.xlabel('epoch')"
      ],
      "execution_count": null,
      "outputs": [
        {
          "output_type": "execute_result",
          "data": {
            "text/plain": [
              "Text(0.5, 0, 'epoch')"
            ]
          },
          "metadata": {},
          "execution_count": 15
        },
        {
          "output_type": "display_data",
          "data": {
            "image/png": "[encoded data removed]",
            "text/plain": [
              "<Figure size 432x288 with 1 Axes>"
            ]
          },
          "metadata": {
            "needs_background": "light"
          }
        }
      ]
    },
    {
      "cell_type": "code",
      "metadata": {
        "colab": {
          "base_uri": "https://localhost:8080/",
          "height": 314
        },
        "id": "98tL3BLOi_ah",
        "outputId": "ae7628e8-951f-442e-df4e-40c62ba06fd9"
      },
      "source": [
        "# Plot graph between training and validation accuracy\n",
        "plt.plot(history.history['accuracy'])\n",
        "plt.plot(history.history['val_accuracy'])\n",
        "plt.legend(['Training', 'Validation'])\n",
        "plt.title('Accuracy')\n",
        "plt.xlabel('epoch')"
      ],
      "execution_count": null,
      "outputs": [
        {
          "output_type": "execute_result",
          "data": {
            "text/plain": [
              "Text(0.5, 0, 'epoch')"
            ]
          },
          "metadata": {},
          "execution_count": 17
        },
        {
          "output_type": "display_data",
          "data": {
            "image/png": "[encoded data removed]",
            "text/plain": [
              "<Figure size 432x288 with 1 Axes>"
            ]
          },
          "metadata": {
            "needs_background": "light"
          }
        }
      ]
    },
    {
      "cell_type": "code",
      "metadata": {
        "colab": {
          "base_uri": "https://localhost:8080/",
          "height": 314
        },
        "id": "f7pMkrWSi_T0",
        "outputId": "68dcb793-dc56-42f3-a9bb-709e31fe5261"
      },
      "source": [
        "# Plot graph between training and validation precision\n",
        "plt.plot(history.history['precision'])\n",
        "plt.plot(history.history['val_precision'])\n",
        "plt.legend(['Training', 'Validation'])\n",
        "plt.title('Precision')\n",
        "plt.xlabel('epoch')"
      ],
      "execution_count": null,
      "outputs": [
        {
          "output_type": "execute_result",
          "data": {
            "text/plain": [
              "Text(0.5, 0, 'epoch')"
            ]
          },
          "metadata": {},
          "execution_count": 18
        },
        {
          "output_type": "display_data",
          "data": {
            "image/png": "[encoded data removed]",
            "text/plain": [
              "<Figure size 432x288 with 1 Axes>"
            ]
          },
          "metadata": {
            "needs_background": "light"
          }
        }
      ]
    },
    {
      "cell_type": "code",
      "metadata": {
        "colab": {
          "base_uri": "https://localhost:8080/",
          "height": 314
        },
        "id": "57cQgQkRi_Jk",
        "outputId": "926928a8-00c5-4880-f676-c412b9cb5602"
      },
      "source": [
        "# Plot graph between training and validation recall\n",
        "plt.plot(history.history['recall'])\n",
        "plt.plot(history.history['val_recall'])\n",
        "plt.legend(['Training', 'Validation'])\n",
        "plt.title('Recall')\n",
        "plt.xlabel('epoch')"
      ],
      "execution_count": null,
      "outputs": [
        {
          "output_type": "execute_result",
          "data": {
            "text/plain": [
              "Text(0.5, 0, 'epoch')"
            ]
          },
          "metadata": {},
          "execution_count": 19
        },
        {
          "output_type": "display_data",
          "data": {
            "image/png": "[encoded data removed]",
            "text/plain": [
              "<Figure size 432x288 with 1 Axes>"
            ]
          },
          "metadata": {
            "needs_background": "light"
          }
        }
      ]
    },
    {
      "cell_type": "code",
      "metadata": {
        "colab": {
          "base_uri": "https://localhost:8080/",
          "height": 886
        },
        "id": "25HKTkziQ4iu",
        "outputId": "db9d6d52-9005-456e-e4d0-3b80fb244cc7"
      },
      "source": [
        "print(evaluate_model(encoded_y_val, ann_y_pred))\n",
        "print(classification_report(encoded_y_val, ann_y_pred))\n",
        "plot_confusion_matrix(encoded_y_val.argmax(axis=1), ann_y_pred.argmax(axis=1), label)"
      ],
      "execution_count": null,
      "outputs": [
        {
          "output_type": "stream",
          "name": "stdout",
          "text": [
            "{'accuracy_score': 0.9987962198686964, 'precision_score': 0.9521671338047755, 'recall_score': 0.9756701813920295, 'f1_score': 0.9632547428163128}\n"
          ]
        },
        {
          "output_type": "stream",
          "name": "stderr",
          "text": [
            "/usr/local/lib/python3.7/dist-packages/sklearn/metrics/_classification.py:1272: UndefinedMetricWarning: Precision and F-score are ill-defined and being set to 0.0 in samples with no predicted labels. Use `zero_division` parameter to control this behavior.\n",
            "  _warn_prf(average, modifier, msg_start, len(result))\n"
          ]
        },
        {
          "output_type": "stream",
          "name": "stdout",
          "text": [
            "              precision    recall  f1-score   support\n",
            "\n",
            "           0       1.00      1.00      1.00    481656\n",
            "           1       1.00      1.00      1.00    412565\n",
            "           2       0.81      0.91      0.86       119\n",
            "           3       1.00      1.00      1.00     22771\n",
            "\n",
            "   micro avg       1.00      1.00      1.00    917111\n",
            "   macro avg       0.95      0.98      0.96    917111\n",
            "weighted avg       1.00      1.00      1.00    917111\n",
            " samples avg       1.00      1.00      1.00    917111\n",
            "\n"
          ]
        },
        {
          "output_type": "display_data",
          "data": {
            "image/png": "[encoded data removed]",
            "text/plain": [
              "<Figure size 720x720 with 2 Axes>"
            ]
          },
          "metadata": {
            "needs_background": "light"
          }
        }
      ]
    },
    {
      "cell_type": "code",
      "metadata": {
        "id": "Tp9qhteqtu_B"
      },
      "source": [
        ""
      ],
      "execution_count": null,
      "outputs": []
    },
    {
      "cell_type": "markdown",
      "metadata": {
        "id": "s0qLkyDdt1u8"
      },
      "source": [
        "## Hybrid Model"
      ]
    },
    {
      "cell_type": "code",
      "metadata": {
        "colab": {
          "base_uri": "https://localhost:8080/",
          "height": 813
        },
        "id": "B6dyfPWYtxWg",
        "outputId": "f53e7ea6-5459-44c2-889c-719f09b277b2"
      },
      "source": [
        "# Defining Hybrid Ensemble Learning Model\n",
        "\n",
        "from sklearn.ensemble import VotingClassifier\n",
        "from sklearn.tree import DecisionTreeClassifier\n",
        "from sklearn.linear_model import LogisticRegression\n",
        "from sklearn.neighbors import KNeighborsClassifier\n",
        "# from sklearn.neural_network import MLPClassifier\n",
        "from sklearn.ensemble import RandomForestClassifier\n",
        "from xgboost import XGBClassifier\n",
        "\n",
        "estimators = []\n",
        "\n",
        "#Defining Decision Tree Classifiers\n",
        "model1 = DecisionTreeClassifier(criterion='gini')\n",
        "estimators.append(('cart1', model1))\n",
        "model2 = DecisionTreeClassifier(criterion='entropy')\n",
        "estimators.append(('cart2', model2))\n",
        "\n",
        "\n",
        "#Defining K-NN classifiers\n",
        "model3 = KNeighborsClassifier(n_neighbors=5, metric='minkowski', p=2)\n",
        "estimators.append(('knn2', model3))\n",
        "\n",
        "model4 = XGBClassifier()\n",
        "estimators.append(('xgboost', model4))\n",
        "\n",
        "model5 = RandomForestClassifier(n_estimators=100,\n",
        "                                criterion=\"entropy\")\n",
        "estimators.append(('rf1', model5))\n",
        "\n",
        "model6 = RandomForestClassifier(n_estimators=200,\n",
        "                                criterion=\"entropy\")\n",
        "estimators.append(('rf2', model6))\n",
        "\n",
        "# Defining the ensemble model\n",
        "ensemble = VotingClassifier(estimators,\n",
        "                            voting='hard',\n",
        "                            weights=[1, 1, 1, 1, 1.1, 1.1])\n",
        "\n",
        "ensemble.fit(X_train, y_train)\n",
        "y_pred_hybrid = ensemble.predict(X_val)\n",
        "\n",
        "print(evaluate_model(y_val, y_pred_hybrid))\n",
        "print(classification_report(y_val, y_pred_hybrid))\n",
        "plot_confusion_matrix(y_val, y_pred_hybrid, label)"
      ],
      "execution_count": null,
      "outputs": [
        {
          "output_type": "stream",
          "name": "stdout",
          "text": [
            "{'accuracy_score': 0.9999825539111405, 'precision_score': 0.9957234587664003, 'recall_score': 0.9936693771568934, 'f1_score': 0.994692060807206}\n",
            "              precision    recall  f1-score   support\n",
            "\n",
            "           0       1.00      1.00      1.00    481656\n",
            "           1       1.00      1.00      1.00    412565\n",
            "           2       0.98      0.97      0.98       119\n",
            "           3       1.00      1.00      1.00     22771\n",
            "\n",
            "    accuracy                           1.00    917111\n",
            "   macro avg       1.00      0.99      0.99    917111\n",
            "weighted avg       1.00      1.00      1.00    917111\n",
            "\n"
          ]
        },
        {
          "output_type": "display_data",
          "data": {
            "image/png": "[encoded data removed]",
            "text/plain": [
              "<Figure size 720x720 with 2 Axes>"
            ]
          },
          "metadata": {
            "needs_background": "light"
          }
        }
      ]
    },
    {
      "cell_type": "markdown",
      "metadata": {
        "id": "zn5jVhLsL_z8"
      },
      "source": [
        "# Visualize the Results"
      ]
    },
    {
      "cell_type": "code",
      "metadata": {
        "id": "6lDp6pUyOaGz"
      },
      "source": [
        "# Create empty list for accuracy, precision, recall and f1-score of each ml algorithm\n",
        "\n",
        "accuracy_score_tf = [0.936326137185139, 0.9983469830805649, 0.7011081537567426, 0.9999716501056034,\n",
        "                     0.9999825539111405, 0.9988714561269029, 0.9987962198686964, 0.9999825539111405]\n",
        "precision_score_tf = [0.8585220752372869, 0.968663808042153, 0.7757951667065448, 0.9999716041850358,\n",
        "                      0.9999825810748809, 0.9758331020251063, 0.9521671338047755,  0.9957234587664003]\n",
        "recall_score_tf = [0.8239697225450888, 0.8728626747216783, 0.7011081537567426, 0.9999716501056034,\n",
        "                   0.9999825539111405, 0.9526677699974041, 0.9756701813920295, 0.9936693771568934]\n",
        "f1_score_tf = [0.8380142417781644, 0.9073157836050112, 0.6674072844788567, 0.9999716249292179,\n",
        "               0.9999825652569376, 0.9636434416147748, 0.9632547428163128, 0.994692060807206]\n",
        "\n",
        "# accuracy_score_tf = [logistic_reg_result['accuracy_score'], knn_result['accuracy_score'],\n",
        "#                      decision_tree_result['accuracy_score'], random_forest_result['accuracy_score'],\n",
        "#                      xgboost_result['accuracy_score']]\n",
        "\n",
        "# precision_score_tf = [logistic_reg_result['precision_score'], knn_result['precision_score'],\n",
        "#                      decision_tree_result['precision_score'], random_forest_result['precision_score'],\n",
        "#                      xgboost_result['precision_score']]\n",
        "# recall_score_tf = [logistic_reg_result['recall_score'], knn_result['recall_score'],\n",
        "#                      decision_tree_result['recall_score'], random_forest_result['recall_score'],\n",
        "#                      xgboost_result['recall_score']]\n",
        "\n",
        "# f1_score_tf = [logistic_reg_result['f1_score'], knn_result['f1_score'],\n",
        "#                 decision_tree_result['f1_score'], random_forest_result['f1_score'],\n",
        "#                 xgboost_result['f1_score']]\n",
        "\n",
        "models = [\"Logistic Regression\", \"KNN\", \"Naive Bayes\", \"Decision Tree\",\n",
        "          \"Random Forest\", \"XGBoost\", \"ANN\", \"Hybrid Model\"]"
      ],
      "execution_count": null,
      "outputs": []
    },
    {
      "cell_type": "code",
      "metadata": {
        "colab": {
          "base_uri": "https://localhost:8080/",
          "height": 513
        },
        "id": "KlFW7ppfV8Ts",
        "outputId": "ff1318ec-9d0e-4ba2-ce99-417f21fa030f"
      },
      "source": [
        "X = np.arange(8)\n",
        "fig = plt.figure(figsize=(12,6))\n",
        "ax = fig.add_axes([0,0,1,1])\n",
        "ax.bar(X + 0.00, accuracy_score_tf, color = 'b', width = 0.25)\n",
        "ax.bar(X + 0.20, precision_score_tf, color = 'g', width = 0.25)\n",
        "ax.bar(X + 0.40, recall_score_tf, color = 'r', width = 0.25)\n",
        "ax.bar(X + 0.60, f1_score_tf, color = 'yellow', width = 0.25)\n",
        "plt.xticks(X+0.30, models)\n",
        "plt.xlabel(\"ML Algorithms\")\n",
        "plt.ylabel(\"Scores\")\n",
        "plt.legend([\"Accuracy\", \"Precision\", \"Recall\", \"F1\"])"
      ],
      "execution_count": null,
      "outputs": [
        {
          "output_type": "execute_result",
          "data": {
            "text/plain": [
              "<matplotlib.legend.Legend at 0x7fdf82e59850>"
            ]
          },
          "metadata": {},
          "execution_count": 30
        },
        {
          "output_type": "display_data",
          "data": {
            "image/png": "[encoded data removed]",
            "text/plain": [
              "<Figure size 864x432 with 1 Axes>"
            ]
          },
          "metadata": {
            "needs_background": "light"
          }
        }
      ]
    },
    {
      "cell_type": "code",
      "metadata": {
        "colab": {
          "base_uri": "https://localhost:8080/",
          "height": 421
        },
        "id": "hJk-Of5POSdy",
        "outputId": "142395de-01ea-4876-f635-b1b4ab49c260"
      },
      "source": [
        "# Accuracy Plot\n",
        "plt.figure(figsize=(12,6))\n",
        "colour = ['green', 'blue', 'orange', 'violet', 'brown', 'red', 'magenta', 'yellow']\n",
        "\n",
        "models = [\"Logistic Regression\", \"KNN\", \"Naive Bayes\", \"Decision Tree\",\n",
        "          \"Random Forest\", \"XGBoost\", \"ANN\", \"Hybrid Model\"]\n",
        "ax = plt.gca()\n",
        "plt.ylim(0.40000, 1)\n",
        "plt.bar(models, accuracy_score_tf, color=colour)\n",
        "plt.title('Accuracy Plot', fontsize=30)\n",
        "plt.xlabel('ML Algorithms', fontsize=14)\n",
        "plt.ylabel('Accuracy', fontsize=14)\n",
        "plt.grid(True)\n",
        "plt.show()"
      ],
      "execution_count": null,
      "outputs": [
        {
          "output_type": "display_data",
          "data": {
            "image/png": "[encoded data removed]",
            "text/plain": [
              "<Figure size 864x432 with 1 Axes>"
            ]
          },
          "metadata": {
            "needs_background": "light"
          }
        }
      ]
    },
    {
      "cell_type": "code",
      "metadata": {
        "colab": {
          "base_uri": "https://localhost:8080/",
          "height": 421
        },
        "id": "yHTeHJ3vL-mq",
        "outputId": "9439fa40-09f7-441f-f014-ce93812f9f89"
      },
      "source": [
        "# Precision Plot\n",
        "plt.figure(figsize=(12,6))\n",
        "\n",
        "ax = plt.gca()\n",
        "plt.ylim(0.40000, 1)\n",
        "plt.bar(models, precision_score_tf, color=colour)\n",
        "plt.title('Precision Plot', fontsize=30)\n",
        "plt.xlabel('ML Algorithms', fontsize=14)\n",
        "plt.ylabel('Precision', fontsize=14)\n",
        "plt.grid(True)\n",
        "plt.show()"
      ],
      "execution_count": null,
      "outputs": [
        {
          "output_type": "display_data",
          "data": {
            "image/png": "[encoded data removed]",
            "text/plain": [
              "<Figure size 864x432 with 1 Axes>"
            ]
          },
          "metadata": {
            "needs_background": "light"
          }
        }
      ]
    },
    {
      "cell_type": "code",
      "metadata": {
        "colab": {
          "base_uri": "https://localhost:8080/",
          "height": 421
        },
        "id": "5lAQhNV9OMD0",
        "outputId": "42e684af-cca8-4b05-c347-01888d5095b4"
      },
      "source": [
        "# Recall Plot\n",
        "plt.figure(figsize=(12,6))\n",
        "\n",
        "ax = plt.gca()\n",
        "plt.ylim(0.40000, 1)\n",
        "plt.bar(models, recall_score_tf, color=colour)\n",
        "plt.title('Recall Plot', fontsize=30)\n",
        "plt.xlabel('ML Algorithms', fontsize=14)\n",
        "plt.ylabel('Recall', fontsize=14)\n",
        "plt.grid(True)\n",
        "plt.show()"
      ],
      "execution_count": null,
      "outputs": [
        {
          "output_type": "display_data",
          "data": {
            "image/png": "[encoded data removed]",
            "text/plain": [
              "<Figure size 864x432 with 1 Axes>"
            ]
          },
          "metadata": {
            "needs_background": "light"
          }
        }
      ]
    },
    {
      "cell_type": "code",
      "metadata": {
        "colab": {
          "base_uri": "https://localhost:8080/",
          "height": 421
        },
        "id": "rErb0J2zMI--",
        "outputId": "c6731d68-546c-4f03-d8d3-8c6c7c85baa9"
      },
      "source": [
        "# F1-Score Plot\n",
        "plt.figure(figsize=(12,6))\n",
        "\n",
        "ax = plt.gca()\n",
        "plt.ylim(0.40000, 1)\n",
        "plt.bar(models, f1_score_tf, color=colour)\n",
        "plt.title('F1 Score Plot', fontsize=30)\n",
        "plt.xlabel('ML Algorithms', fontsize=14)\n",
        "plt.ylabel('F1 Score', fontsize=14)\n",
        "plt.grid(True)\n",
        "plt.show()"
      ],
      "execution_count": null,
      "outputs": [
        {
          "output_type": "display_data",
          "data": {
            "image/png": "[encoded data removed]",
            "text/plain": [
              "<Figure size 864x432 with 1 Axes>"
            ]
          },
          "metadata": {
            "needs_background": "light"
          }
        }
      ]
    },
    {
      "cell_type": "code",
      "metadata": {
        "id": "cXkG5cp-QCoX"
      },
      "source": [
        ""
      ],
      "execution_count": null,
      "outputs": []
    }
  ]
}